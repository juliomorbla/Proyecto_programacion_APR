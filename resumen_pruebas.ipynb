{
 "cells": [
  {
   "cell_type": "markdown",
   "id": "612e8d72",
   "metadata": {},
   "source": [
    "Tras realizar varias pruebas comparando 4 arquitecturas diferentes, comprobamos tanto por resultados en la fase de test como en las gráficas que el mejor modelo de los probados hasta ahora es: `create_mobile_like_dqn`.\n",
    "\n",
    "Su funcionamiento se inspira en la arquitectura de MobileNet, una red eficiente y ligera basada en bloques `depthwise separable`, lo que permite reducir significativamente el número de parámetros sin perder capacidad. Esta propiedad es especialmente útil en entornos de aprendizaje por refuerzo profundo donde los tiempos de entrenamiento y la eficiencia computacional son importantes.\n",
    "\n",
    "En esta versión adaptada para DQN:\n",
    "- Se comienza con una capa `Conv2D` estándar para captar patrones básicos.\n",
    "- Luego, se emplean varios bloques `depthwise-pointwise` que separan el filtrado espacial del canal, siguiendo la filosofía MobileNet.\n",
    "- Finalmente, se realiza un aplanado (`Flatten`) y se pasan los datos por una capa densa antes de la salida.\n",
    "\n",
    "Con esta arquitectura se ha demostrado que:\n",
    "- Posee un mejor equilibrio entre complejidad y rendimiento que el resto.\n",
    "- Se ha conseguido una convergencia más estable.\n",
    "- Mejores recompensas medias y menos varianza entre episodios.\n",
    "\n",
    "Además, al mantener un tamaño razonable de red, permite entrenar más rápidamente y con menor riesgo de sobreajuste, lo que la convierte en una buena candidata para continuar los experimentos y aplicar mejoras adicionales (Double DQN, Dueling DQN, etc.).\n"
   ]
  }
 ],
 "metadata": {
  "language_info": {
   "name": "python"
  }
 },
 "nbformat": 4,
 "nbformat_minor": 5
}
