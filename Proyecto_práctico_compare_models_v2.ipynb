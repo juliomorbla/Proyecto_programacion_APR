{
  "cells": [
    {
      "cell_type": "markdown",
      "metadata": {
        "id": "jUehXgCyIRdq"
      },
      "source": [
        "# Actividad - Proyecto práctico\n",
        "\n",
        "\n",
        "> La actividad se desarrollará en grupos pre-definidos de 2-3 alumnos. Se debe indicar los nombres en orden alfabético (de apellidos). Recordad que esta actividad se corresponde con un 30% de la nota final de la asignatura. Se debe entregar entregar el trabajo en la presente notebook.\n",
        "*   Alumno 1:\n",
        "*   Alumno 2:\n",
        "*   Alumno 3:\n",
        "\n",
        "\n",
        "\n",
        "\n"
      ]
    },
    {
      "cell_type": "markdown",
      "metadata": {
        "id": "JwpYlnjWJhS9"
      },
      "source": [
        "---\n",
        "## **PARTE 1** - Instalación y requisitos previos\n",
        "\n",
        "> Las prácticas han sido preparadas para poder realizarse en el entorno de trabajo de Google Colab. Sin embargo, esta plataforma presenta ciertas incompatibilidades a la hora de visualizar la renderización en gym. Por ello, para obtener estas visualizaciones, se deberá trasladar el entorno de trabajo a local. Por ello, el presente dosier presenta instrucciones para poder trabajar en ambos entornos. Siga los siguientes pasos para un correcto funcionamiento:\n",
        "1.   **LOCAL:** Preparar el enviroment, siguiendo las intrucciones detalladas en la sección *1.1.Preparar enviroment*.\n",
        "2.  **AMBOS:** Modificar las variables \"mount\" y \"drive_mount\" a la carpeta de trabajo en drive en el caso de estar en Colab, y ejecturar la celda *1.2.Localizar entorno de trabajo*.\n",
        "3. **COLAB:** se deberá ejecutar las celdas correspondientes al montaje de la carpeta de trabajo en Drive. Esta corresponde a la sección *1.3.Montar carpeta de datos local*.\n",
        "4.  **AMBOS:** Instalar las librerías necesarias, siguiendo la sección *1.4.Instalar librerías necesarias*.\n"
      ]
    },
    {
      "cell_type": "markdown",
      "metadata": {
        "id": "RU2BPrK2JkP0"
      },
      "source": [
        "---\n",
        "### 1.1. Preparar enviroment (solo local)\n",
        "\n",
        "\n",
        "\n",
        "> Para preparar el entorno de trabajo en local, se han seguido los siguientes pasos:\n",
        "1. En Windows, puede ser necesario instalar las C++ Build Tools. Para ello, siga los siguientes pasos: https://towardsdatascience.com/how-to-install-openai-gym-in-a-windows-environment-338969e24d30.\n",
        "2. Instalar Anaconda\n",
        "3. Siguiendo el código que se presenta comentado en la próxima celda: Crear un enviroment, cambiar la ruta de trabajo, e instalar librerías básicas.\n",
        "\n",
        "\n",
        "```\n",
        "conda create --name miar_rl python=3.8\n",
        "conda activate miar_rl\n",
        "cd \"PATH_TO_FOLDER\"\n",
        "conda install git\n",
        "pip install jupyter\n",
        "```\n",
        "\n",
        "\n",
        "4. Abrir la notebook con *jupyter-notebook*.\n",
        "\n",
        "\n",
        "\n",
        "```\n",
        "jupyter-notebook\n",
        "```\n"
      ]
    },
    {
      "cell_type": "markdown",
      "metadata": {
        "id": "w-kixNPiJqTc"
      },
      "source": [
        "---\n",
        "### 1.2. Localizar entorno de trabajo: Google colab o local"
      ]
    },
    {
      "cell_type": "code",
      "execution_count": 35,
      "metadata": {
        "id": "S_YDFwZ-JscI"
      },
      "outputs": [],
      "source": [
        "# # ATENCIÓN!! Modificar ruta relativa a la práctica si es distinta (drive_root)\n",
        "# mount='/content/gdrive'\n",
        "# drive_root = mount + \"/My Drive/08_MIAR/actividades/proyecto practico\"\n",
        "\n",
        "# try:\n",
        "#   from google.colab import drive\n",
        "#   IN_COLAB=True\n",
        "# except:\n",
        "#   IN_COLAB=False"
      ]
    },
    {
      "cell_type": "markdown",
      "metadata": {
        "id": "8Dp_a1iBJ0tf"
      },
      "source": [
        "---\n",
        "### 1.3. Montar carpeta de datos local (solo Colab)"
      ]
    },
    {
      "cell_type": "code",
      "execution_count": 36,
      "metadata": {
        "id": "I6n7MIefJ21i"
      },
      "outputs": [],
      "source": [
        "# # Switch to the directory on the Google Drive that you want to use\n",
        "# import os\n",
        "# if IN_COLAB:\n",
        "#   print(\"We're running Colab\")\n",
        "\n",
        "#   if IN_COLAB:\n",
        "#     # Mount the Google Drive at mount\n",
        "#     print(\"Colab: mounting Google drive on \", mount)\n",
        "\n",
        "#     drive.mount(mount)\n",
        "\n",
        "#     # Create drive_root if it doesn't exist\n",
        "#     create_drive_root = True\n",
        "#     if create_drive_root:\n",
        "#       print(\"\\nColab: making sure \", drive_root, \" exists.\")\n",
        "#       os.makedirs(drive_root, exist_ok=True)\n",
        "\n",
        "#     # Change to the directory\n",
        "#     print(\"\\nColab: Changing directory to \", drive_root)\n",
        "#     %cd $drive_root\n",
        "# # Verify we're in the correct working directory\n",
        "# %pwd\n",
        "# print(\"Archivos en el directorio: \")\n",
        "# print(os.listdir())"
      ]
    },
    {
      "cell_type": "markdown",
      "metadata": {
        "id": "i1ZSL5bpJ560"
      },
      "source": [
        "---\n",
        "### 1.4. Instalar librerías necesarias"
      ]
    },
    {
      "cell_type": "code",
      "execution_count": 37,
      "metadata": {
        "id": "UbVRjvHCJ8UF"
      },
      "outputs": [],
      "source": [
        "# if IN_COLAB:\n",
        "#   %pip install gym==0.17.3\n",
        "#   %pip install git+https://github.com/Kojoley/atari-py.git\n",
        "#   %pip install keras-rl2==1.0.5\n",
        "#   %pip install tensorflow==2.8\n",
        "# else:\n",
        "#   %pip install gym==0.17.3\n",
        "#   %pip install git+https://github.com/Kojoley/atari-py.git\n",
        "#   %pip install pyglet==1.5.0\n",
        "#   %pip install h5py==3.1.0\n",
        "#   %pip install Pillow==9.5.0\n",
        "#   %pip install keras-rl2==1.0.5\n",
        "#   %pip install Keras==2.2.4\n",
        "#   %pip install tensorflow==2.5.3\n",
        "#   %pip install torch==2.0.1\n",
        "#   %pip install agents==1.4.0"
      ]
    },
    {
      "cell_type": "markdown",
      "metadata": {
        "id": "4hzP_5ZuGb2X"
      },
      "source": [
        "---\n",
        "## **PARTE 2**. Enunciado\n",
        "\n",
        "Consideraciones a tener en cuenta:\n",
        "\n",
        "- El entorno sobre el que trabajaremos será _SpaceInvaders-v0_ y el algoritmo que usaremos será _DQN_.\n",
        "\n",
        "- Para nuestro ejercicio, el requisito mínimo será alcanzado cuando el agente consiga una **media de recompensa por encima de 20 puntos en modo test**. Por ello, esta media de la recompensa se calculará a partir del código de test en la última celda del notebook.\n",
        "\n",
        "Este proyecto práctico consta de tres partes:\n",
        "\n",
        "1.   Implementar la red neuronal que se usará en la solución\n",
        "2.   Implementar las distintas piezas de la solución DQN\n",
        "3.   Justificar la respuesta en relación a los resultados obtenidos\n",
        "\n",
        "**Rúbrica**: Se valorará la originalidad en la solución aportada, así como la capacidad de discutir los resultados de forma detallada. El requisito mínimo servirá para aprobar la actividad, bajo premisa de que la discusión del resultado sera apropiada.\n",
        "\n",
        "IMPORTANTE:\n",
        "\n",
        "* Si no se consigue una puntuación óptima, responder sobre la mejor puntuación obtenida.\n",
        "* Para entrenamientos largos, recordad que podéis usar checkpoints de vuestros modelos para retomar los entrenamientos. En este caso, recordad cambiar los parámetros adecuadamente (sobre todo los relacionados con el proceso de exploración).\n",
        "* Se deberá entregar unicamente el notebook y los pesos del mejor modelo en un fichero .zip, de forma organizada.\n",
        "* Cada alumno deberá de subir la solución de forma individual."
      ]
    },
    {
      "cell_type": "markdown",
      "metadata": {
        "id": "6_b3mzw8IzJP"
      },
      "source": [
        "---\n",
        "## **PARTE 3**. Desarrollo y preguntas"
      ]
    },
    {
      "cell_type": "markdown",
      "metadata": {
        "id": "duPmUNOVGb2a"
      },
      "source": [
        "#### Importar librerías"
      ]
    },
    {
      "cell_type": "code",
      "execution_count": 1,
      "metadata": {
        "id": "j3eRhgI-Gb2a"
      },
      "outputs": [],
      "source": [
        "from __future__ import division\n",
        "\n",
        "from PIL import Image\n",
        "import numpy as np\n",
        "import gym\n",
        "\n",
        "from tensorflow.keras.models import Sequential\n",
        "from tensorflow.keras.layers import (Dense, Activation, Flatten, Convolution2D, Permute, Input,\n",
        "                                     SeparableConv2D, Lambda, Subtract, Add, Conv2D, \n",
        "                                     DepthwiseConv2D, BatchNormalization, ReLU, InputLayer)\n",
        "from tensorflow.keras.optimizers import Adam\n",
        "import tensorflow.keras.backend as K\n",
        "\n",
        "from rl.agents.dqn import DQNAgent\n",
        "from rl.policy import LinearAnnealedPolicy, BoltzmannQPolicy, EpsGreedyQPolicy\n",
        "from rl.memory import SequentialMemory\n",
        "from rl.core import Processor\n",
        "from rl.callbacks import FileLogger, ModelIntervalCheckpoint\n",
        "\n",
        "import os\n",
        "import tensorflow as tf\n",
        "from tensorflow.keras.models import Model\n",
        "import tensorflow.keras.backend as K \n",
        "import time\n",
        "from tensorflow.keras.callbacks import Callback\n",
        "from rl.callbacks import FileLogger\n"
      ]
    },
    {
      "cell_type": "markdown",
      "metadata": {
        "id": "f4jgQjzoGb2a"
      },
      "source": [
        "#### Configuración base"
      ]
    },
    {
      "cell_type": "code",
      "execution_count": 2,
      "metadata": {
        "id": "jwOE6I_KGb2a"
      },
      "outputs": [],
      "source": [
        "INPUT_SHAPE = (84, 84)\n",
        "WINDOW_LENGTH = 4\n",
        "\n",
        "env_name = 'SpaceInvaders-v0'\n",
        "env = gym.make(env_name)\n",
        "\n",
        "np.random.seed(123)\n",
        "env.seed(123)\n",
        "nb_actions = env.action_space.n"
      ]
    },
    {
      "cell_type": "code",
      "execution_count": 3,
      "metadata": {
        "id": "9jGEZUcpGb2a"
      },
      "outputs": [],
      "source": [
        "class AtariProcessor(Processor):\n",
        "    def process_observation(self, observation):\n",
        "        assert observation.ndim == 3  # (height, width, channel)\n",
        "        img = Image.fromarray(observation)\n",
        "        img = img.resize(INPUT_SHAPE).convert('L')\n",
        "        processed_observation = np.array(img)\n",
        "        assert processed_observation.shape == INPUT_SHAPE\n",
        "        return processed_observation.astype('uint8')\n",
        "\n",
        "    def process_state_batch(self, batch):\n",
        "        processed_batch = batch.astype('float32') / 255.\n",
        "        return processed_batch\n",
        "\n",
        "    def process_reward(self, reward):\n",
        "        return np.clip(reward, -1., 1.)"
      ]
    },
    {
      "cell_type": "code",
      "execution_count": 4,
      "metadata": {},
      "outputs": [
        {
          "name": "stdout",
          "output_type": "stream",
          "text": [
            "[PhysicalDevice(name='/physical_device:GPU:0', device_type='GPU')]\n"
          ]
        }
      ],
      "source": [
        "print(tf.config.list_physical_devices('GPU'))"
      ]
    },
    {
      "cell_type": "markdown",
      "metadata": {
        "id": "7yitXTADGb2b"
      },
      "source": [
        "1. Implementación de la red neuronal"
      ]
    },
    {
      "cell_type": "markdown",
      "metadata": {},
      "source": [
        "# Hiperparámetros"
      ]
    },
    {
      "cell_type": "code",
      "execution_count": 31,
      "metadata": {
        "id": "O4GKrfWSGb2b"
      },
      "outputs": [],
      "source": [
        "# Hiperparámetros\n",
        "\n",
        "LEARNING_RATE = 0.0005\n",
        "\n",
        "GAMMA = 0.99\n",
        "TARGET_MODEL_UPDATE = 10000\n",
        "DELTA_CLIP = 1.0\n",
        "TRAIN_INTERVAL = 24"
      ]
    },
    {
      "cell_type": "markdown",
      "metadata": {},
      "source": [
        "##### Modelo 4"
      ]
    },
    {
      "cell_type": "code",
      "execution_count": 32,
      "metadata": {},
      "outputs": [
        {
          "name": "stdout",
          "output_type": "stream",
          "text": [
            "Model: \"model_11\"\n",
            "_________________________________________________________________\n",
            "Layer (type)                 Output Shape              Param #   \n",
            "=================================================================\n",
            "input_8 (InputLayer)         [(None, 4, 84, 84)]       0         \n",
            "_________________________________________________________________\n",
            "permute_7 (Permute)          (None, 84, 84, 4)         0         \n",
            "_________________________________________________________________\n",
            "conv2d_28 (Conv2D)           (None, 42, 42, 16)        592       \n",
            "_________________________________________________________________\n",
            "batch_normalization_49 (Batc (None, 42, 42, 16)        64        \n",
            "_________________________________________________________________\n",
            "re_lu_49 (ReLU)              (None, 42, 42, 16)        0         \n",
            "_________________________________________________________________\n",
            "depthwise_conv2d_21 (Depthwi (None, 21, 21, 16)        160       \n",
            "_________________________________________________________________\n",
            "batch_normalization_50 (Batc (None, 21, 21, 16)        64        \n",
            "_________________________________________________________________\n",
            "re_lu_50 (ReLU)              (None, 21, 21, 16)        0         \n",
            "_________________________________________________________________\n",
            "conv2d_29 (Conv2D)           (None, 21, 21, 32)        544       \n",
            "_________________________________________________________________\n",
            "batch_normalization_51 (Batc (None, 21, 21, 32)        128       \n",
            "_________________________________________________________________\n",
            "re_lu_51 (ReLU)              (None, 21, 21, 32)        0         \n",
            "_________________________________________________________________\n",
            "depthwise_conv2d_22 (Depthwi (None, 11, 11, 32)        320       \n",
            "_________________________________________________________________\n",
            "batch_normalization_52 (Batc (None, 11, 11, 32)        128       \n",
            "_________________________________________________________________\n",
            "re_lu_52 (ReLU)              (None, 11, 11, 32)        0         \n",
            "_________________________________________________________________\n",
            "conv2d_30 (Conv2D)           (None, 11, 11, 32)        1056      \n",
            "_________________________________________________________________\n",
            "batch_normalization_53 (Batc (None, 11, 11, 32)        128       \n",
            "_________________________________________________________________\n",
            "re_lu_53 (ReLU)              (None, 11, 11, 32)        0         \n",
            "_________________________________________________________________\n",
            "depthwise_conv2d_23 (Depthwi (None, 11, 11, 32)        320       \n",
            "_________________________________________________________________\n",
            "batch_normalization_54 (Batc (None, 11, 11, 32)        128       \n",
            "_________________________________________________________________\n",
            "re_lu_54 (ReLU)              (None, 11, 11, 32)        0         \n",
            "_________________________________________________________________\n",
            "conv2d_31 (Conv2D)           (None, 11, 11, 64)        2112      \n",
            "_________________________________________________________________\n",
            "batch_normalization_55 (Batc (None, 11, 11, 64)        256       \n",
            "_________________________________________________________________\n",
            "re_lu_55 (ReLU)              (None, 11, 11, 64)        0         \n",
            "_________________________________________________________________\n",
            "flatten_7 (Flatten)          (None, 7744)              0         \n",
            "_________________________________________________________________\n",
            "dense_14 (Dense)             (None, 256)               1982720   \n",
            "_________________________________________________________________\n",
            "dense_15 (Dense)             (None, 6)                 1542      \n",
            "=================================================================\n",
            "Total params: 1,990,262\n",
            "Trainable params: 1,989,814\n",
            "Non-trainable params: 448\n",
            "_________________________________________________________________\n"
          ]
        }
      ],
      "source": [
        "def create_mobile_like_dqn(input_shape, num_actions):\n",
        "    x_in = Input(shape=(input_shape[0], input_shape[1], input_shape[2]))\n",
        "    x = Permute((2, 3, 1))(x_in)  # (84,84,frames)\n",
        "    # Primer conv estándar ligero\n",
        "    x = Conv2D(16, (3, 3), strides=2, padding='same')(x)  # ~(42x42x16)\n",
        "    x = BatchNormalization()(x); x = ReLU()(x)\n",
        "    # Bloque depthwise-pointwise\n",
        "    def dw_pw(block_input, filters, strides):\n",
        "        y = DepthwiseConv2D((3,3), strides=strides, padding='same')(block_input) # aplica una convolución 3x3 a cada canal por separado\n",
        "        y = BatchNormalization()(y); y = ReLU()(y)\n",
        "        y = Conv2D(filters, (1,1), padding='same')(y) # combina los canales resultantes, aprendiendo cómo mezclarlos (pointwise)\n",
        "        y = BatchNormalization()(y); y = ReLU()(y)\n",
        "        return y\n",
        "    x = dw_pw(x, 32, strides=2)   # ~(21x21x32)\n",
        "    x = dw_pw(x, 32, strides=2)   # ~(11x11x32)\n",
        "    x = dw_pw(x, 64, strides=1)   # ~(11x11x64)\n",
        "    x = Flatten()(x)\n",
        "    x = Dense(256, activation='relu')(x)\n",
        "    x = Dense(num_actions, activation='linear', dtype='float32')(x)\n",
        "    return Model(inputs=x_in, outputs=x)\n",
        "\n",
        "# Prueba rápida\n",
        "model = create_mobile_like_dqn((4, 84, 84), num_actions=6)\n",
        "model.compile(optimizer='adam', loss='mse')\n",
        "model.summary()"
      ]
    },
    {
      "cell_type": "code",
      "execution_count": 33,
      "metadata": {},
      "outputs": [],
      "source": [
        "input_shape = (WINDOW_LENGTH,) + INPUT_SHAPE\n",
        "num_actions = nb_actions\n",
        "\n",
        "model_like_dqn = create_mobile_like_dqn(input_shape, num_actions)\n"
      ]
    },
    {
      "cell_type": "markdown",
      "metadata": {
        "id": "OB9-_5HPGb2b"
      },
      "source": [
        "2. Implementación de la solución DQN"
      ]
    },
    {
      "cell_type": "code",
      "execution_count": 26,
      "metadata": {
        "id": "foSlxWH1Gb2b"
      },
      "outputs": [],
      "source": [
        "memory = SequentialMemory(limit=1000000, window_length=WINDOW_LENGTH)\n",
        "processor = AtariProcessor()\n",
        "policy = LinearAnnealedPolicy(EpsGreedyQPolicy(), attr='eps', value_max=1.0, value_min=0.1, value_test=0.05, nb_steps=1000000)\n"
      ]
    },
    {
      "cell_type": "markdown",
      "metadata": {},
      "source": [
        "Callbacks"
      ]
    },
    {
      "cell_type": "code",
      "execution_count": 27,
      "metadata": {},
      "outputs": [],
      "source": [
        "# Definimos un Callbak para poder guardar los mejores pesos cada 20 iteraciones \n",
        "class SaveBestWeights(Callback):\n",
        "    def __init__(self, filepath, interval=20, overwrite=True):\n",
        "        super(SaveBestWeights, self).__init__()\n",
        "        self.filepath = filepath\n",
        "        self.interval = interval\n",
        "        self.best_reward = -float('inf')\n",
        "        self.overwrite = overwrite\n",
        "    \n",
        "    def on_episode_end(self, episode, logs={}):\n",
        "        if episode % self.interval == 0:\n",
        "            current_reward = logs.get('episode_reward')\n",
        "            if current_reward > self.best_reward:\n",
        "                self.best_reward = current_reward\n",
        "                if self.overwrite or not os.path.exists(self.filepath):\n",
        "                    self.model.save_weights(self.filepath, overwrite=True)\n",
        "                    print(f'\\n ##### Pesos guardados en {self.filepath} recompensa: {self.best_reward}')\n",
        "                else:\n",
        "                    print(f'\\n ##### Warning: No se sobrescribió {self.filepath}, ya existe.')\n",
        "\n",
        "\n",
        "# Definimos un Callbak para poder guardar los ultimos pesos cada 10 iteraciones, sin importar si mejoró el resultado del modelo \n",
        "class SaveLastWeights(Callback):\n",
        "    def __init__(self, filepath, interval=10):\n",
        "        super(SaveLastWeights, self).__init__()\n",
        "        self.filepath = filepath\n",
        "        self.interval = interval\n",
        "    \n",
        "    def on_episode_end(self, episode, logs={}):\n",
        "        if episode % self.interval == 0:\n",
        "            self.model.save_weights(self.filepath, overwrite=True)\n",
        "            print(f'\\n ##### Pesos guardados en {self.filepath} al final del episodio {episode}')"
      ]
    },
    {
      "cell_type": "markdown",
      "metadata": {},
      "source": [
        "Agentes"
      ]
    },
    {
      "cell_type": "code",
      "execution_count": 34,
      "metadata": {},
      "outputs": [],
      "source": [
        "dqn_like_dqn = DQNAgent(\n",
        "    model=model_like_dqn,\n",
        "    nb_actions=num_actions,\n",
        "    policy=policy,\n",
        "    memory=memory,\n",
        "    processor=processor,\n",
        "    nb_steps_warmup = 50000, # indica cuántos pasos (interacciones con el entorno) el agente debe ejecutar antes de comenzar a entrenar el modelo\n",
        "    gamma=GAMMA,\n",
        "    target_model_update = TARGET_MODEL_UPDATE,\n",
        "    train_interval = TRAIN_INTERVAL,\n",
        "    delta_clip = DELTA_CLIP\n",
        ")\n",
        "\n",
        "optimizer = Adam(learning_rate = LEARNING_RATE)\n",
        "dqn_like_dqn.compile(optimizer=optimizer, metrics=['mae'])"
      ]
    },
    {
      "cell_type": "markdown",
      "metadata": {},
      "source": [
        "#### Prueba con numero de iteraciones = 100.000"
      ]
    },
    {
      "cell_type": "code",
      "execution_count": null,
      "metadata": {},
      "outputs": [
        {
          "name": "stdout",
          "output_type": "stream",
          "text": [
            "########--------------  modelo 4  ------------------###########\n",
            "Training for 100000 steps ...\n",
            "Interval 1 (0 steps performed)\n",
            "  641/25000 [..............................] - ETA: 2:52 - reward: 0.0094\n",
            " ##### Pesos guardados en POC_train_interval_10_1M\\modelos\\dqn_best_weights.h5 recompensa: 6.0\n",
            "\n",
            " ##### Pesos guardados en POC_train_interval_10_1M\\modelos\\dqn_last_weights.h5 al final del episodio 0\n",
            "25000/25000 [==============================] - 191s 8ms/step - reward: 0.0119\n",
            "38 episodes - episode_reward: 7.605 [3.000, 21.000] - ale.lives: 2.137\n",
            "\n",
            "Interval 2 (25000 steps performed)\n",
            " 9489/25000 [==========>...................] - ETA: 1:54 - reward: 0.0130\n",
            " ##### Pesos guardados en POC_train_interval_10_1M\\modelos\\dqn_best_weights.h5 recompensa: 9.0\n",
            "\n",
            " ##### Pesos guardados en POC_train_interval_10_1M\\modelos\\dqn_last_weights.h5 al final del episodio 50\n",
            "25000/25000 [==============================] - 180s 7ms/step - reward: 0.0128\n",
            "35 episodes - episode_reward: 9.371 [2.000, 23.000] - ale.lives: 2.144\n",
            "\n",
            "Interval 3 (50000 steps performed)\n",
            "19625/25000 [======================>.......] - ETA: 3:19 - reward: 0.0126\n",
            " ##### Pesos guardados en POC_train_interval_10_1M\\modelos\\dqn_last_weights.h5 al final del episodio 100\n",
            "25000/25000 [==============================] - 931s 37ms/step - reward: 0.0127\n",
            "36 episodes - episode_reward: 8.833 [3.000, 21.000] - loss: 0.008 - mae: 0.032 - mean_q: 0.042 - mean_eps: 0.944 - ale.lives: 2.123\n",
            "\n",
            "Interval 4 (75000 steps performed)\n",
            "25000/25000 [==============================] - 943s 38ms/step - reward: 0.0142\n",
            "done, took 2245.955 seconds\n",
            "Entrenamiento completado en 2245.98 segundos (37.43 minutos)\n",
            "Testing for 10 episodes ...\n",
            "Episode 1: reward: 0.000, steps: 931\n",
            "Episode 2: reward: 0.000, steps: 917\n",
            "Episode 3: reward: 0.000, steps: 918\n",
            "Episode 4: reward: 0.000, steps: 924\n",
            "Episode 5: reward: 0.000, steps: 918\n",
            "Episode 6: reward: 0.000, steps: 931\n",
            "Episode 7: reward: 0.000, steps: 918\n",
            "Episode 8: reward: 0.000, steps: 929\n",
            "Episode 9: reward: 0.000, steps: 926\n",
            "Episode 10: reward: 0.000, steps: 912\n",
            "0 ~ 0 Mean 0.0\n"
          ]
        }
      ],
      "source": [
        "path = 'POC_train_interval_10_1M'\n",
        "\n",
        "# Define subdirectorios\n",
        "videos_path = os.path.join(path, 'videos')\n",
        "modelos_path = os.path.join(path, 'modelos')\n",
        "\n",
        "# Crear directorios si no existen\n",
        "os.makedirs(videos_path, exist_ok=True)\n",
        "os.makedirs(modelos_path, exist_ok=True)\n",
        "\n",
        "log_filename = os.path.join(modelos_path, f'dqn_{env_name}_log.json')\n",
        "\n",
        "filepath_bw = os.path.join(modelos_path, 'dqn_best_weights.h5')\n",
        "save_best_weights = SaveBestWeights(filepath=filepath_bw, interval=50, overwrite=True)\n",
        "\n",
        "filepath_lw = os.path.join(modelos_path, 'dqn_last_weights.h5')\n",
        "save_last_weights = SaveLastWeights(filepath=filepath_lw, interval=50)\n",
        "\n",
        "print(\"########--------------  modelo 4  ------------------###########\")\n",
        "\n",
        "# start_time = time.time()\n",
        "\n",
        "# train_scores = dqn_like_dqn.fit(env, nb_steps=100000, visualize=False, verbose=1, log_interval=25000, \n",
        "#                        callbacks=[save_best_weights, save_last_weights, FileLogger(log_filename, interval=100)])\n",
        "\n",
        "# end_time = time.time()\n",
        "# training_duration = end_time - start_time\n",
        "\n",
        "# print(f\"Entrenamiento completado en {training_duration:.2f} segundos ({training_duration/60:.2f} minutos)\")\n",
        "\n",
        "weights_filename = './POCS_iters_100000/POC4/modelos/dqn_last_weights.h5'\n",
        "dqn_like_dqn.load_weights(weights_filename)\n",
        "test_scores = dqn_like_dqn.test(env, nb_episodes=10, visualize=False)\n",
        "\n",
        "episode_rewards = test_scores.history['episode_reward']\n",
        "print(int(np.min(episode_rewards)), \"~\", int(np.max(episode_rewards)), \"Mean\", np.mean(episode_rewards))"
      ]
    },
    {
      "cell_type": "markdown",
      "metadata": {},
      "source": [
        "Resumen de lo obtenido para número de iteraciones = 100.000 \n",
        "\n",
        "\n",
        "| Model ID | Nombre del Modelo | Recompensas Totales | Recompensa Media | Duración prueba |\n",
        "|----------|--------------------|----------------------|-------------------|-------------------|\n",
        "| Model 1  | create_dqn_model         | 11 ~ 28                | 18.6               | 14 m 40 seg \n",
        "| Model 2  | create_separable_light_dqn       | 12 ~ 26                | 18.3               | 17 m 58 seg\n",
        "| Model 3  | create_dueling_light_dqn | 18 ~ 18     | 18               | 17 m\n",
        "| Model 4  | create_mobile_like_dqn | 18 ~ 20 | 19.6 | 26 m 11 seg"
      ]
    },
    {
      "cell_type": "code",
      "execution_count": 35,
      "metadata": {},
      "outputs": [
        {
          "name": "stdout",
          "output_type": "stream",
          "text": [
            "Testing for 10 episodes ...\n"
          ]
        },
        {
          "name": "stderr",
          "output_type": "stream",
          "text": [
            "d:\\anaconda3\\envs\\gym4\\lib\\site-packages\\tensorflow\\python\\keras\\engine\\training.py:2424: UserWarning: `Model.state_updates` will be removed in a future version. This property should not be used in TensorFlow 2.0, as `updates` are applied automatically.\n",
            "  warnings.warn('`Model.state_updates` will be removed in a future version. '\n"
          ]
        },
        {
          "name": "stdout",
          "output_type": "stream",
          "text": [
            "Episode 1: reward: 20.000, steps: 714\n",
            "Episode 2: reward: 20.000, steps: 730\n",
            "Episode 3: reward: 20.000, steps: 727\n",
            "Episode 4: reward: 20.000, steps: 729\n",
            "Episode 5: reward: 20.000, steps: 721\n",
            "Episode 6: reward: 18.000, steps: 707\n",
            "Episode 7: reward: 20.000, steps: 718\n",
            "Episode 8: reward: 20.000, steps: 716\n",
            "Episode 9: reward: 18.000, steps: 728\n",
            "Episode 10: reward: 20.000, steps: 724\n",
            "18 ~ 20 Mean 19.6\n"
          ]
        }
      ],
      "source": [
        "weights_filename = './POCS_iters_100000/POC4/modelos/dqn_last_weights.h5'\n",
        "dqn_like_dqn.load_weights(weights_filename)\n",
        "test_scores = dqn_like_dqn.test(env, nb_episodes=10, visualize=False)\n",
        "\n",
        "episode_rewards = test_scores.history['episode_reward']\n",
        "print(int(np.min(episode_rewards)), \"~\", int(np.max(episode_rewards)), \"Mean\", np.mean(episode_rewards))"
      ]
    },
    {
      "cell_type": "code",
      "execution_count": 37,
      "metadata": {},
      "outputs": [],
      "source": [
        "def evaluar_pesos(dqn_agent, env, weights_path, nombre_pesos, nb_tests=10, nb_episodes=10):\n",
        "    dqn_agent.load_weights(weights_path)\n",
        "    best_mean_reward = -float('inf')\n",
        "    best_result = None\n",
        "\n",
        "    for i in range(nb_tests):\n",
        "        print(f\"\\n--- Evaluación #{i+1} para {nombre_pesos} ---\")\n",
        "        test_scores = dqn_agent.test(env, nb_episodes=nb_episodes, visualize=False)\n",
        "\n",
        "        episode_rewards = test_scores.history['episode_reward']\n",
        "        min_reward = int(np.min(episode_rewards))\n",
        "        max_reward = int(np.max(episode_rewards))\n",
        "        mean_reward = np.mean(episode_rewards)\n",
        "\n",
        "        print(f\"Recompensas: {min_reward} ~ {max_reward} | Media: {mean_reward:.2f}\")\n",
        "\n",
        "        if mean_reward > best_mean_reward:\n",
        "            best_mean_reward = mean_reward\n",
        "            best_result = {\n",
        "                \"index\": i + 1,\n",
        "                \"min\": min_reward,\n",
        "                \"max\": max_reward,\n",
        "                \"mean\": mean_reward\n",
        "            }\n",
        "    return best_result\n"
      ]
    },
    {
      "cell_type": "code",
      "execution_count": 38,
      "metadata": {},
      "outputs": [
        {
          "name": "stdout",
          "output_type": "stream",
          "text": [
            "\n",
            "--- Evaluación #1 para last_weights ---\n",
            "Testing for 10 episodes ...\n",
            "Episode 1: reward: 18.000, steps: 721\n",
            "Episode 2: reward: 18.000, steps: 715\n",
            "Episode 3: reward: 20.000, steps: 738\n",
            "Episode 4: reward: 20.000, steps: 732\n",
            "Episode 5: reward: 18.000, steps: 710\n",
            "Episode 6: reward: 20.000, steps: 724\n",
            "Episode 7: reward: 20.000, steps: 729\n",
            "Episode 8: reward: 18.000, steps: 715\n",
            "Episode 9: reward: 20.000, steps: 720\n",
            "Episode 10: reward: 18.000, steps: 719\n",
            "Recompensas: 18 ~ 20 | Media: 19.00\n",
            "\n",
            "--- Evaluación #2 para last_weights ---\n",
            "Testing for 10 episodes ...\n",
            "Episode 1: reward: 20.000, steps: 727\n",
            "Episode 2: reward: 20.000, steps: 723\n",
            "Episode 3: reward: 20.000, steps: 739\n",
            "Episode 4: reward: 20.000, steps: 723\n",
            "Episode 5: reward: 20.000, steps: 722\n",
            "Episode 6: reward: 20.000, steps: 722\n",
            "Episode 7: reward: 20.000, steps: 737\n",
            "Episode 8: reward: 18.000, steps: 715\n",
            "Episode 9: reward: 16.000, steps: 1121\n",
            "Episode 10: reward: 20.000, steps: 718\n",
            "Recompensas: 16 ~ 20 | Media: 19.40\n",
            "\n",
            "--- Evaluación #3 para last_weights ---\n",
            "Testing for 10 episodes ...\n",
            "Episode 1: reward: 20.000, steps: 724\n",
            "Episode 2: reward: 20.000, steps: 718\n",
            "Episode 3: reward: 20.000, steps: 717\n",
            "Episode 4: reward: 27.000, steps: 1525\n",
            "Episode 5: reward: 20.000, steps: 735\n",
            "Episode 6: reward: 20.000, steps: 730\n",
            "Episode 7: reward: 18.000, steps: 718\n",
            "Episode 8: reward: 18.000, steps: 717\n",
            "Episode 9: reward: 20.000, steps: 717\n",
            "Episode 10: reward: 20.000, steps: 736\n",
            "Recompensas: 18 ~ 27 | Media: 20.30\n",
            "\n",
            "--- Evaluación #4 para last_weights ---\n",
            "Testing for 10 episodes ...\n",
            "Episode 1: reward: 20.000, steps: 726\n",
            "Episode 2: reward: 20.000, steps: 736\n",
            "Episode 3: reward: 20.000, steps: 726\n",
            "Episode 4: reward: 18.000, steps: 722\n",
            "Episode 5: reward: 20.000, steps: 733\n",
            "Episode 6: reward: 20.000, steps: 729\n",
            "Episode 7: reward: 20.000, steps: 724\n",
            "Episode 8: reward: 20.000, steps: 723\n",
            "Episode 9: reward: 20.000, steps: 712\n",
            "Episode 10: reward: 20.000, steps: 711\n",
            "Recompensas: 18 ~ 20 | Media: 19.80\n",
            "\n",
            "--- Evaluación #5 para last_weights ---\n",
            "Testing for 10 episodes ...\n",
            "Episode 1: reward: 18.000, steps: 723\n",
            "Episode 2: reward: 18.000, steps: 715\n",
            "Episode 3: reward: 18.000, steps: 710\n",
            "Episode 4: reward: 20.000, steps: 715\n",
            "Episode 5: reward: 18.000, steps: 730\n",
            "Episode 6: reward: 20.000, steps: 717\n",
            "Episode 7: reward: 20.000, steps: 709\n",
            "Episode 8: reward: 18.000, steps: 728\n",
            "Episode 9: reward: 18.000, steps: 727\n",
            "Episode 10: reward: 20.000, steps: 738\n",
            "Recompensas: 18 ~ 20 | Media: 18.80\n",
            "\n",
            "--- Evaluación #6 para last_weights ---\n",
            "Testing for 10 episodes ...\n",
            "Episode 1: reward: 18.000, steps: 728\n",
            "Episode 2: reward: 18.000, steps: 707\n",
            "Episode 3: reward: 20.000, steps: 740\n",
            "Episode 4: reward: 20.000, steps: 727\n",
            "Episode 5: reward: 16.000, steps: 1110\n",
            "Episode 6: reward: 18.000, steps: 710\n",
            "Episode 7: reward: 20.000, steps: 738\n",
            "Episode 8: reward: 20.000, steps: 712\n",
            "Episode 9: reward: 18.000, steps: 727\n",
            "Episode 10: reward: 20.000, steps: 732\n",
            "Recompensas: 16 ~ 20 | Media: 18.80\n",
            "\n",
            "--- Evaluación #7 para last_weights ---\n",
            "Testing for 10 episodes ...\n",
            "Episode 1: reward: 20.000, steps: 730\n",
            "Episode 2: reward: 20.000, steps: 724\n",
            "Episode 3: reward: 18.000, steps: 727\n",
            "Episode 4: reward: 20.000, steps: 723\n",
            "Episode 5: reward: 20.000, steps: 720\n",
            "Episode 6: reward: 20.000, steps: 746\n",
            "Episode 7: reward: 20.000, steps: 725\n",
            "Episode 8: reward: 18.000, steps: 722\n",
            "Episode 9: reward: 20.000, steps: 744\n",
            "Episode 10: reward: 18.000, steps: 712\n",
            "Recompensas: 18 ~ 20 | Media: 19.40\n",
            "\n",
            "--- Evaluación #8 para last_weights ---\n",
            "Testing for 10 episodes ...\n",
            "Episode 1: reward: 20.000, steps: 739\n",
            "Episode 2: reward: 20.000, steps: 725\n",
            "Episode 3: reward: 20.000, steps: 732\n",
            "Episode 4: reward: 18.000, steps: 733\n",
            "Episode 5: reward: 20.000, steps: 725\n",
            "Episode 6: reward: 18.000, steps: 701\n",
            "Episode 7: reward: 20.000, steps: 721\n",
            "Episode 8: reward: 20.000, steps: 733\n",
            "Episode 9: reward: 18.000, steps: 725\n",
            "Episode 10: reward: 20.000, steps: 732\n",
            "Recompensas: 18 ~ 20 | Media: 19.40\n",
            "\n",
            "--- Evaluación #9 para last_weights ---\n",
            "Testing for 10 episodes ...\n",
            "Episode 1: reward: 18.000, steps: 714\n",
            "Episode 2: reward: 16.000, steps: 1120\n",
            "Episode 3: reward: 20.000, steps: 710\n",
            "Episode 4: reward: 20.000, steps: 721\n",
            "Episode 5: reward: 20.000, steps: 736\n",
            "Episode 6: reward: 18.000, steps: 713\n",
            "Episode 7: reward: 20.000, steps: 718\n",
            "Episode 8: reward: 20.000, steps: 728\n",
            "Episode 9: reward: 20.000, steps: 732\n",
            "Episode 10: reward: 16.000, steps: 1143\n",
            "Recompensas: 16 ~ 20 | Media: 18.80\n",
            "\n",
            "--- Evaluación #10 para last_weights ---\n",
            "Testing for 10 episodes ...\n",
            "Episode 1: reward: 18.000, steps: 712\n",
            "Episode 2: reward: 20.000, steps: 728\n",
            "Episode 3: reward: 20.000, steps: 732\n",
            "Episode 4: reward: 20.000, steps: 727\n",
            "Episode 5: reward: 20.000, steps: 726\n",
            "Episode 6: reward: 18.000, steps: 715\n",
            "Episode 7: reward: 20.000, steps: 727\n",
            "Episode 8: reward: 18.000, steps: 704\n",
            "Episode 9: reward: 20.000, steps: 732\n",
            "Episode 10: reward: 18.000, steps: 712\n",
            "Recompensas: 18 ~ 20 | Media: 19.20\n",
            "\n",
            "====== Resultados finales ======\n",
            "Mejor resultado para last_weights: Evaluación #3: 18 ~ 27 | Media: 20.30\n"
          ]
        }
      ],
      "source": [
        "# Ejecutar evaluación para last_weights\n",
        "weights_last = './POCS_iters_100000/POC4/modelos/dqn_last_weights.h5'\n",
        "best_last = evaluar_pesos(dqn_like_dqn, env, weights_last, 'last_weights')\n",
        "\n",
        "print(\"\\n====== Resultados finales ======\")\n",
        "print(f\"Mejor resultado para last_weights: Evaluación #{best_last['index']}: {best_last['min']} ~ {best_last['max']} | Media: {best_last['mean']:.2f}\")"
      ]
    },
    {
      "cell_type": "markdown",
      "metadata": {},
      "source": [
        "# Mejor resultado para last_weights: Evaluación #3: 18 ~ 27 | Media: 20.30"
      ]
    },
    {
      "cell_type": "markdown",
      "metadata": {
        "id": "-NAlu8b1Gb2b"
      },
      "source": [
        "3. Justificación de los parámetros seleccionados y de los resultados obtenidos"
      ]
    },
    {
      "cell_type": "markdown",
      "metadata": {},
      "source": []
    },
    {
      "cell_type": "markdown",
      "metadata": {
        "id": "ANFQiicXK3sO"
      },
      "source": [
        "---"
      ]
    }
  ],
  "metadata": {
    "colab": {
      "provenance": []
    },
    "kernelspec": {
      "display_name": "Python (gym4 fresh)",
      "language": "python",
      "name": "gym4-fresh"
    },
    "language_info": {
      "codemirror_mode": {
        "name": "ipython",
        "version": 3
      },
      "file_extension": ".py",
      "mimetype": "text/x-python",
      "name": "python",
      "nbconvert_exporter": "python",
      "pygments_lexer": "ipython3",
      "version": "3.8.19"
    }
  },
  "nbformat": 4,
  "nbformat_minor": 0
}
