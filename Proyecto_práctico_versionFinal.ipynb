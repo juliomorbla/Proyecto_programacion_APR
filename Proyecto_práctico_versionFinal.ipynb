{
  "cells": [
    {
      "cell_type": "markdown",
      "metadata": {
        "id": "jUehXgCyIRdq"
      },
      "source": [
        "# Actividad - Proyecto práctico\n",
        "\n",
        "\n",
        "> La actividad se desarrollará en grupos pre-definidos de 2-3 alumnos. Se debe indicar los nombres en orden alfabético (de apellidos). Recordad que esta actividad se corresponde con un 30% de la nota final de la asignatura. Se debe entregar entregar el trabajo en la presente notebook.\n",
        "*   Alumno 1: Julio Moreno Blanco\n",
        "*   Alumno 2: Mireia Carbó Feliu\n",
        "*   Alumno 3: Bryan Duque Gutiérrez\n",
        "\n",
        "\n",
        "\n",
        "\n"
      ]
    },
    {
      "cell_type": "markdown",
      "metadata": {
        "id": "JwpYlnjWJhS9"
      },
      "source": [
        "---\n",
        "## **PARTE 1** - Instalación y requisitos previos\n",
        "\n",
        "> Las prácticas han sido preparadas para poder realizarse en el entorno de trabajo de Google Colab. Sin embargo, esta plataforma presenta ciertas incompatibilidades a la hora de visualizar la renderización en gym. Por ello, para obtener estas visualizaciones, se deberá trasladar el entorno de trabajo a local. Por ello, el presente dosier presenta instrucciones para poder trabajar en ambos entornos. Siga los siguientes pasos para un correcto funcionamiento:\n",
        "1.   **LOCAL:** Preparar el enviroment, siguiendo las intrucciones detalladas en la sección *1.1.Preparar enviroment*.\n",
        "2.  **AMBOS:** Modificar las variables \"mount\" y \"drive_mount\" a la carpeta de trabajo en drive en el caso de estar en Colab, y ejecturar la celda *1.2.Localizar entorno de trabajo*.\n",
        "3. **COLAB:** se deberá ejecutar las celdas correspondientes al montaje de la carpeta de trabajo en Drive. Esta corresponde a la sección *1.3.Montar carpeta de datos local*.\n",
        "4.  **AMBOS:** Instalar las librerías necesarias, siguiendo la sección *1.4.Instalar librerías necesarias*.\n"
      ]
    },
    {
      "cell_type": "markdown",
      "metadata": {
        "id": "RU2BPrK2JkP0"
      },
      "source": [
        "---\n",
        "### 1.1. Preparar enviroment (solo local)\n",
        "\n",
        "\n",
        "\n",
        "> Para preparar el entorno de trabajo en local, se han seguido los siguientes pasos:\n",
        "1. En Windows, puede ser necesario instalar las C++ Build Tools. Para ello, siga los siguientes pasos: https://towardsdatascience.com/how-to-install-openai-gym-in-a-windows-environment-338969e24d30.\n",
        "2. Instalar Anaconda\n",
        "3. Siguiendo el código que se presenta comentado en la próxima celda: Crear un enviroment, cambiar la ruta de trabajo, e instalar librerías básicas.\n",
        "\n",
        "\n",
        "```\n",
        "conda create --name miar_rl python=3.8\n",
        "conda activate miar_rl\n",
        "cd \"PATH_TO_FOLDER\"\n",
        "conda install git\n",
        "pip install jupyter\n",
        "```\n",
        "\n",
        "\n",
        "4. Abrir la notebook con *jupyter-notebook*.\n",
        "\n",
        "\n",
        "\n",
        "```\n",
        "jupyter-notebook\n",
        "```\n"
      ]
    },
    {
      "cell_type": "markdown",
      "metadata": {
        "id": "w-kixNPiJqTc"
      },
      "source": [
        "---\n",
        "### 1.2. Localizar entorno de trabajo: Google colab o local"
      ]
    },
    {
      "cell_type": "code",
      "execution_count": null,
      "metadata": {
        "id": "S_YDFwZ-JscI"
      },
      "outputs": [],
      "source": [
        "# # ATENCIÓN!! Modificar ruta relativa a la práctica si es distinta (drive_root)\n",
        "# mount='/content/gdrive'\n",
        "# drive_root = mount + \"/My Drive/08_MIAR/Proyecto_programacion_APR\"\n",
        "\n",
        "# try:\n",
        "#   from google.colab import drive\n",
        "#   IN_COLAB=True\n",
        "# except:\n",
        "#   IN_COLAB=False"
      ]
    },
    {
      "cell_type": "markdown",
      "metadata": {
        "id": "8Dp_a1iBJ0tf"
      },
      "source": [
        "---\n",
        "### 1.3. Montar carpeta de datos local (solo Colab)"
      ]
    },
    {
      "cell_type": "code",
      "execution_count": null,
      "metadata": {
        "colab": {
          "base_uri": "https://localhost:8080/"
        },
        "id": "I6n7MIefJ21i",
        "outputId": "09923d62-90ca-4ed7-9bba-2e1342217886"
      },
      "outputs": [
        {
          "name": "stdout",
          "output_type": "stream",
          "text": [
            "We're running Colab\n",
            "Colab: mounting Google drive on  /content/gdrive\n",
            "Mounted at /content/gdrive\n",
            "\n",
            "Colab: making sure  /content/gdrive/My Drive/08_MIAR/Proyecto_programacion_APR  exists.\n",
            "\n",
            "Colab: Changing directory to  /content/gdrive/My Drive/08_MIAR/Proyecto_programacion_APR\n",
            "/content/gdrive/My Drive/08_MIAR/Proyecto_programacion_APR\n",
            "Archivos en el directorio: \n",
            "['.git', 'Proyecto_práctico(1).ipynb', 'requirements.txt', 'Screenshot 2025-06-23 at 09.17.59.png', 'requirements.txt.gdoc', 'Proyecto_práctico_versionFinal.ipynb']\n"
          ]
        }
      ],
      "source": [
        "# # Switch to the directory on the Google Drive that you want to use\n",
        "# import os\n",
        "# if IN_COLAB:\n",
        "#   print(\"We're running Colab\")\n",
        "\n",
        "#   if IN_COLAB:\n",
        "#     # Mount the Google Drive at mount\n",
        "#     print(\"Colab: mounting Google drive on \", mount)\n",
        "\n",
        "#     drive.mount(mount)\n",
        "\n",
        "#     # Create drive_root if it doesn't exist\n",
        "#     create_drive_root = True\n",
        "#     if create_drive_root:\n",
        "#       print(\"\\nColab: making sure \", drive_root, \" exists.\")\n",
        "#       os.makedirs(drive_root, exist_ok=True)\n",
        "\n",
        "#     # Change to the directory\n",
        "#     print(\"\\nColab: Changing directory to \", drive_root)\n",
        "#     %cd $drive_root\n",
        "# # Verify we're in the correct working directory\n",
        "# %pwd\n",
        "# print(\"Archivos en el directorio: \")\n",
        "# print(os.listdir())"
      ]
    },
    {
      "cell_type": "markdown",
      "metadata": {
        "id": "i1ZSL5bpJ560"
      },
      "source": [
        "---\n",
        "### 1.4. Instalar librerías necesarias"
      ]
    },
    {
      "cell_type": "code",
      "execution_count": null,
      "metadata": {
        "id": "iV5tYdRtpik-"
      },
      "outputs": [],
      "source": [
        "# Desinstalar versiones incompatibles preinstaladas en Colab\n",
        "#!pip uninstall -y gym keras keras-nightly keras-Preprocessing keras-vis keras-applications tensorflow"
      ]
    },
    {
      "cell_type": "code",
      "execution_count": null,
      "metadata": {
        "colab": {
          "base_uri": "https://localhost:8080/",
          "height": 1000
        },
        "id": "_JHXdjwzqVfP",
        "outputId": "7f70a4bc-1f48-42ce-9159-92fb42e08274"
      },
      "outputs": [
        {
          "name": "stdout",
          "output_type": "stream",
          "text": [
            "Requirement already satisfied: gym==0.17.3 in /usr/local/lib/python3.11/dist-packages (0.17.3)\n",
            "Requirement already satisfied: scipy in /usr/local/lib/python3.11/dist-packages (from gym==0.17.3) (1.15.3)\n",
            "Requirement already satisfied: numpy>=1.10.4 in /usr/local/lib/python3.11/dist-packages (from gym==0.17.3) (2.0.2)\n",
            "Requirement already satisfied: pyglet<=1.5.0,>=1.4.0 in /usr/local/lib/python3.11/dist-packages (from gym==0.17.3) (1.5.0)\n",
            "Requirement already satisfied: cloudpickle<1.7.0,>=1.2.0 in /usr/local/lib/python3.11/dist-packages (from gym==0.17.3) (1.6.0)\n",
            "Requirement already satisfied: future in /usr/local/lib/python3.11/dist-packages (from pyglet<=1.5.0,>=1.4.0->gym==0.17.3) (1.0.0)\n",
            "Collecting git+https://github.com/Kojoley/atari-py.git\n",
            "  Cloning https://github.com/Kojoley/atari-py.git to /tmp/pip-req-build-82wq679t\n",
            "  Running command git clone --filter=blob:none --quiet https://github.com/Kojoley/atari-py.git /tmp/pip-req-build-82wq679t\n",
            "  Resolved https://github.com/Kojoley/atari-py.git to commit 86a1e05c0a95e9e6233c3a413521fdb34ca8a089\n",
            "  Preparing metadata (setup.py) ... \u001b[?25l\u001b[?25hdone\n",
            "Requirement already satisfied: numpy in /usr/local/lib/python3.11/dist-packages (from atari-py==1.2.2) (2.0.2)\n",
            "Building wheels for collected packages: atari-py\n",
            "  Building wheel for atari-py (setup.py) ... \u001b[?25l\u001b[?25hdone\n",
            "  Created wheel for atari-py: filename=atari_py-1.2.2-cp311-cp311-linux_x86_64.whl size=4738558 sha256=62d1ad07939012fdbbd233b0d0c8ea200f7f31919d63eb65aa36268f9f50ded8\n",
            "  Stored in directory: /tmp/pip-ephem-wheel-cache-atjpg9pt/wheels/1a/58/b3/3baab9d1509939ecce2dfd9ca349c222b7ee6590f4bd6097a1\n",
            "Successfully built atari-py\n",
            "Installing collected packages: atari-py\n",
            "Successfully installed atari-py-1.2.2\n",
            "Collecting keras-rl2==1.0.5\n",
            "  Downloading keras_rl2-1.0.5-py3-none-any.whl.metadata (304 bytes)\n",
            "Requirement already satisfied: tensorflow in /usr/local/lib/python3.11/dist-packages (from keras-rl2==1.0.5) (2.18.0)\n",
            "Requirement already satisfied: absl-py>=1.0.0 in /usr/local/lib/python3.11/dist-packages (from tensorflow->keras-rl2==1.0.5) (1.4.0)\n",
            "Requirement already satisfied: astunparse>=1.6.0 in /usr/local/lib/python3.11/dist-packages (from tensorflow->keras-rl2==1.0.5) (1.6.3)\n",
            "Requirement already satisfied: flatbuffers>=24.3.25 in /usr/local/lib/python3.11/dist-packages (from tensorflow->keras-rl2==1.0.5) (25.2.10)\n",
            "Requirement already satisfied: gast!=0.5.0,!=0.5.1,!=0.5.2,>=0.2.1 in /usr/local/lib/python3.11/dist-packages (from tensorflow->keras-rl2==1.0.5) (0.6.0)\n",
            "Requirement already satisfied: google-pasta>=0.1.1 in /usr/local/lib/python3.11/dist-packages (from tensorflow->keras-rl2==1.0.5) (0.2.0)\n",
            "Requirement already satisfied: libclang>=13.0.0 in /usr/local/lib/python3.11/dist-packages (from tensorflow->keras-rl2==1.0.5) (18.1.1)\n",
            "Requirement already satisfied: opt-einsum>=2.3.2 in /usr/local/lib/python3.11/dist-packages (from tensorflow->keras-rl2==1.0.5) (3.4.0)\n",
            "Requirement already satisfied: packaging in /usr/local/lib/python3.11/dist-packages (from tensorflow->keras-rl2==1.0.5) (24.2)\n",
            "Requirement already satisfied: protobuf!=4.21.0,!=4.21.1,!=4.21.2,!=4.21.3,!=4.21.4,!=4.21.5,<6.0.0dev,>=3.20.3 in /usr/local/lib/python3.11/dist-packages (from tensorflow->keras-rl2==1.0.5) (5.29.5)\n",
            "Requirement already satisfied: requests<3,>=2.21.0 in /usr/local/lib/python3.11/dist-packages (from tensorflow->keras-rl2==1.0.5) (2.32.3)\n",
            "Requirement already satisfied: setuptools in /usr/local/lib/python3.11/dist-packages (from tensorflow->keras-rl2==1.0.5) (75.2.0)\n",
            "Requirement already satisfied: six>=1.12.0 in /usr/local/lib/python3.11/dist-packages (from tensorflow->keras-rl2==1.0.5) (1.17.0)\n",
            "Requirement already satisfied: termcolor>=1.1.0 in /usr/local/lib/python3.11/dist-packages (from tensorflow->keras-rl2==1.0.5) (3.1.0)\n",
            "Requirement already satisfied: typing-extensions>=3.6.6 in /usr/local/lib/python3.11/dist-packages (from tensorflow->keras-rl2==1.0.5) (4.14.0)\n",
            "Requirement already satisfied: wrapt>=1.11.0 in /usr/local/lib/python3.11/dist-packages (from tensorflow->keras-rl2==1.0.5) (1.17.2)\n",
            "Requirement already satisfied: grpcio<2.0,>=1.24.3 in /usr/local/lib/python3.11/dist-packages (from tensorflow->keras-rl2==1.0.5) (1.73.0)\n",
            "Requirement already satisfied: tensorboard<2.19,>=2.18 in /usr/local/lib/python3.11/dist-packages (from tensorflow->keras-rl2==1.0.5) (2.18.0)\n",
            "Requirement already satisfied: keras>=3.5.0 in /usr/local/lib/python3.11/dist-packages (from tensorflow->keras-rl2==1.0.5) (3.8.0)\n",
            "Requirement already satisfied: numpy<2.1.0,>=1.26.0 in /usr/local/lib/python3.11/dist-packages (from tensorflow->keras-rl2==1.0.5) (2.0.2)\n",
            "Requirement already satisfied: h5py>=3.11.0 in /usr/local/lib/python3.11/dist-packages (from tensorflow->keras-rl2==1.0.5) (3.14.0)\n",
            "Requirement already satisfied: ml-dtypes<0.5.0,>=0.4.0 in /usr/local/lib/python3.11/dist-packages (from tensorflow->keras-rl2==1.0.5) (0.4.1)\n",
            "Requirement already satisfied: tensorflow-io-gcs-filesystem>=0.23.1 in /usr/local/lib/python3.11/dist-packages (from tensorflow->keras-rl2==1.0.5) (0.37.1)\n",
            "Requirement already satisfied: wheel<1.0,>=0.23.0 in /usr/local/lib/python3.11/dist-packages (from astunparse>=1.6.0->tensorflow->keras-rl2==1.0.5) (0.45.1)\n",
            "Requirement already satisfied: rich in /usr/local/lib/python3.11/dist-packages (from keras>=3.5.0->tensorflow->keras-rl2==1.0.5) (13.9.4)\n",
            "Requirement already satisfied: namex in /usr/local/lib/python3.11/dist-packages (from keras>=3.5.0->tensorflow->keras-rl2==1.0.5) (0.1.0)\n",
            "Requirement already satisfied: optree in /usr/local/lib/python3.11/dist-packages (from keras>=3.5.0->tensorflow->keras-rl2==1.0.5) (0.16.0)\n",
            "Requirement already satisfied: charset-normalizer<4,>=2 in /usr/local/lib/python3.11/dist-packages (from requests<3,>=2.21.0->tensorflow->keras-rl2==1.0.5) (3.4.2)\n",
            "Requirement already satisfied: idna<4,>=2.5 in /usr/local/lib/python3.11/dist-packages (from requests<3,>=2.21.0->tensorflow->keras-rl2==1.0.5) (3.10)\n",
            "Requirement already satisfied: urllib3<3,>=1.21.1 in /usr/local/lib/python3.11/dist-packages (from requests<3,>=2.21.0->tensorflow->keras-rl2==1.0.5) (2.4.0)\n",
            "Requirement already satisfied: certifi>=2017.4.17 in /usr/local/lib/python3.11/dist-packages (from requests<3,>=2.21.0->tensorflow->keras-rl2==1.0.5) (2025.6.15)\n",
            "Requirement already satisfied: markdown>=2.6.8 in /usr/local/lib/python3.11/dist-packages (from tensorboard<2.19,>=2.18->tensorflow->keras-rl2==1.0.5) (3.8)\n",
            "Requirement already satisfied: tensorboard-data-server<0.8.0,>=0.7.0 in /usr/local/lib/python3.11/dist-packages (from tensorboard<2.19,>=2.18->tensorflow->keras-rl2==1.0.5) (0.7.2)\n",
            "Requirement already satisfied: werkzeug>=1.0.1 in /usr/local/lib/python3.11/dist-packages (from tensorboard<2.19,>=2.18->tensorflow->keras-rl2==1.0.5) (3.1.3)\n",
            "Requirement already satisfied: MarkupSafe>=2.1.1 in /usr/local/lib/python3.11/dist-packages (from werkzeug>=1.0.1->tensorboard<2.19,>=2.18->tensorflow->keras-rl2==1.0.5) (3.0.2)\n",
            "Requirement already satisfied: markdown-it-py>=2.2.0 in /usr/local/lib/python3.11/dist-packages (from rich->keras>=3.5.0->tensorflow->keras-rl2==1.0.5) (3.0.0)\n",
            "Requirement already satisfied: pygments<3.0.0,>=2.13.0 in /usr/local/lib/python3.11/dist-packages (from rich->keras>=3.5.0->tensorflow->keras-rl2==1.0.5) (2.19.1)\n",
            "Requirement already satisfied: mdurl~=0.1 in /usr/local/lib/python3.11/dist-packages (from markdown-it-py>=2.2.0->rich->keras>=3.5.0->tensorflow->keras-rl2==1.0.5) (0.1.2)\n",
            "Downloading keras_rl2-1.0.5-py3-none-any.whl (52 kB)\n",
            "\u001b[2K   \u001b[90m━━━━━━━━━━━━━━━━━━━━━━━━━━━━━━━━━━━━━━━━\u001b[0m \u001b[32m52.1/52.1 kB\u001b[0m \u001b[31m2.2 MB/s\u001b[0m eta \u001b[36m0:00:00\u001b[0m\n",
            "\u001b[?25hInstalling collected packages: keras-rl2\n",
            "Successfully installed keras-rl2-1.0.5\n",
            "Collecting tensorflow==2.12.0\n",
            "  Downloading tensorflow-2.12.0-cp311-cp311-manylinux_2_17_x86_64.manylinux2014_x86_64.whl.metadata (3.4 kB)\n",
            "Requirement already satisfied: absl-py>=1.0.0 in /usr/local/lib/python3.11/dist-packages (from tensorflow==2.12.0) (1.4.0)\n",
            "Requirement already satisfied: astunparse>=1.6.0 in /usr/local/lib/python3.11/dist-packages (from tensorflow==2.12.0) (1.6.3)\n",
            "Requirement already satisfied: flatbuffers>=2.0 in /usr/local/lib/python3.11/dist-packages (from tensorflow==2.12.0) (25.2.10)\n",
            "Collecting gast<=0.4.0,>=0.2.1 (from tensorflow==2.12.0)\n",
            "  Downloading gast-0.4.0-py3-none-any.whl.metadata (1.1 kB)\n",
            "Requirement already satisfied: google-pasta>=0.1.1 in /usr/local/lib/python3.11/dist-packages (from tensorflow==2.12.0) (0.2.0)\n",
            "Requirement already satisfied: grpcio<2.0,>=1.24.3 in /usr/local/lib/python3.11/dist-packages (from tensorflow==2.12.0) (1.73.0)\n",
            "Requirement already satisfied: h5py>=2.9.0 in /usr/local/lib/python3.11/dist-packages (from tensorflow==2.12.0) (3.14.0)\n",
            "Requirement already satisfied: jax>=0.3.15 in /usr/local/lib/python3.11/dist-packages (from tensorflow==2.12.0) (0.5.2)\n",
            "Collecting keras<2.13,>=2.12.0 (from tensorflow==2.12.0)\n",
            "  Downloading keras-2.12.0-py2.py3-none-any.whl.metadata (1.4 kB)\n",
            "Requirement already satisfied: libclang>=13.0.0 in /usr/local/lib/python3.11/dist-packages (from tensorflow==2.12.0) (18.1.1)\n",
            "Collecting numpy<1.24,>=1.22 (from tensorflow==2.12.0)\n",
            "  Downloading numpy-1.23.5-cp311-cp311-manylinux_2_17_x86_64.manylinux2014_x86_64.whl.metadata (2.3 kB)\n",
            "Requirement already satisfied: opt-einsum>=2.3.2 in /usr/local/lib/python3.11/dist-packages (from tensorflow==2.12.0) (3.4.0)\n",
            "Requirement already satisfied: packaging in /usr/local/lib/python3.11/dist-packages (from tensorflow==2.12.0) (24.2)\n",
            "Collecting protobuf!=4.21.0,!=4.21.1,!=4.21.2,!=4.21.3,!=4.21.4,!=4.21.5,<5.0.0dev,>=3.20.3 (from tensorflow==2.12.0)\n",
            "  Downloading protobuf-4.25.8-cp37-abi3-manylinux2014_x86_64.whl.metadata (541 bytes)\n",
            "Requirement already satisfied: setuptools in /usr/local/lib/python3.11/dist-packages (from tensorflow==2.12.0) (75.2.0)\n",
            "Requirement already satisfied: six>=1.12.0 in /usr/local/lib/python3.11/dist-packages (from tensorflow==2.12.0) (1.17.0)\n",
            "Collecting tensorboard<2.13,>=2.12 (from tensorflow==2.12.0)\n",
            "  Downloading tensorboard-2.12.3-py3-none-any.whl.metadata (1.8 kB)\n",
            "Collecting tensorflow-estimator<2.13,>=2.12.0 (from tensorflow==2.12.0)\n",
            "  Downloading tensorflow_estimator-2.12.0-py2.py3-none-any.whl.metadata (1.3 kB)\n",
            "Requirement already satisfied: termcolor>=1.1.0 in /usr/local/lib/python3.11/dist-packages (from tensorflow==2.12.0) (3.1.0)\n",
            "Requirement already satisfied: typing-extensions>=3.6.6 in /usr/local/lib/python3.11/dist-packages (from tensorflow==2.12.0) (4.14.0)\n",
            "Collecting wrapt<1.15,>=1.11.0 (from tensorflow==2.12.0)\n",
            "  Downloading wrapt-1.14.1-cp311-cp311-manylinux_2_5_x86_64.manylinux1_x86_64.manylinux_2_17_x86_64.manylinux2014_x86_64.whl.metadata (6.7 kB)\n",
            "Requirement already satisfied: tensorflow-io-gcs-filesystem>=0.23.1 in /usr/local/lib/python3.11/dist-packages (from tensorflow==2.12.0) (0.37.1)\n",
            "Requirement already satisfied: wheel<1.0,>=0.23.0 in /usr/local/lib/python3.11/dist-packages (from astunparse>=1.6.0->tensorflow==2.12.0) (0.45.1)\n",
            "Requirement already satisfied: jaxlib<=0.5.2,>=0.5.1 in /usr/local/lib/python3.11/dist-packages (from jax>=0.3.15->tensorflow==2.12.0) (0.5.1)\n",
            "Requirement already satisfied: ml_dtypes>=0.4.0 in /usr/local/lib/python3.11/dist-packages (from jax>=0.3.15->tensorflow==2.12.0) (0.4.1)\n",
            "INFO: pip is looking at multiple versions of jax to determine which version is compatible with other requirements. This could take a while.\n",
            "Collecting jax>=0.3.15 (from tensorflow==2.12.0)\n",
            "  Downloading jax-0.6.2-py3-none-any.whl.metadata (13 kB)\n",
            "Collecting jaxlib<=0.6.2,>=0.6.2 (from jax>=0.3.15->tensorflow==2.12.0)\n",
            "  Downloading jaxlib-0.6.2-cp311-cp311-manylinux2014_x86_64.whl.metadata (1.3 kB)\n",
            "Collecting ml_dtypes>=0.5.0 (from jax>=0.3.15->tensorflow==2.12.0)\n",
            "  Downloading ml_dtypes-0.5.1-cp311-cp311-manylinux_2_17_x86_64.manylinux2014_x86_64.whl.metadata (21 kB)\n",
            "Collecting jax>=0.3.15 (from tensorflow==2.12.0)\n",
            "  Downloading jax-0.6.1-py3-none-any.whl.metadata (13 kB)\n",
            "Collecting jaxlib<=0.6.1,>=0.6.1 (from jax>=0.3.15->tensorflow==2.12.0)\n",
            "  Downloading jaxlib-0.6.1-cp311-cp311-manylinux2014_x86_64.whl.metadata (1.2 kB)\n",
            "Collecting jax>=0.3.15 (from tensorflow==2.12.0)\n",
            "  Downloading jax-0.6.0-py3-none-any.whl.metadata (22 kB)\n",
            "Collecting jaxlib<=0.6.0,>=0.6.0 (from jax>=0.3.15->tensorflow==2.12.0)\n",
            "  Downloading jaxlib-0.6.0-cp311-cp311-manylinux2014_x86_64.whl.metadata (1.2 kB)\n",
            "Collecting jax>=0.3.15 (from tensorflow==2.12.0)\n",
            "  Downloading jax-0.5.3-py3-none-any.whl.metadata (22 kB)\n",
            "Collecting jaxlib<=0.5.3,>=0.5.3 (from jax>=0.3.15->tensorflow==2.12.0)\n",
            "  Downloading jaxlib-0.5.3-cp311-cp311-manylinux2014_x86_64.whl.metadata (1.2 kB)\n",
            "Collecting jax>=0.3.15 (from tensorflow==2.12.0)\n",
            "  Downloading jax-0.5.1-py3-none-any.whl.metadata (22 kB)\n",
            "  Downloading jax-0.5.0-py3-none-any.whl.metadata (22 kB)\n",
            "Collecting jaxlib<=0.5.0,>=0.5.0 (from jax>=0.3.15->tensorflow==2.12.0)\n",
            "  Downloading jaxlib-0.5.0-cp311-cp311-manylinux2014_x86_64.whl.metadata (978 bytes)\n",
            "Collecting jax>=0.3.15 (from tensorflow==2.12.0)\n",
            "  Downloading jax-0.4.38-py3-none-any.whl.metadata (22 kB)\n",
            "Collecting jaxlib<=0.4.38,>=0.4.38 (from jax>=0.3.15->tensorflow==2.12.0)\n",
            "  Downloading jaxlib-0.4.38-cp311-cp311-manylinux2014_x86_64.whl.metadata (1.0 kB)\n",
            "INFO: pip is still looking at multiple versions of jax to determine which version is compatible with other requirements. This could take a while.\n",
            "Collecting jax>=0.3.15 (from tensorflow==2.12.0)\n",
            "  Downloading jax-0.4.37-py3-none-any.whl.metadata (22 kB)\n",
            "Collecting jaxlib<=0.4.37,>=0.4.36 (from jax>=0.3.15->tensorflow==2.12.0)\n",
            "  Downloading jaxlib-0.4.36-cp311-cp311-manylinux2014_x86_64.whl.metadata (1.0 kB)\n",
            "Collecting jax>=0.3.15 (from tensorflow==2.12.0)\n",
            "  Downloading jax-0.4.36-py3-none-any.whl.metadata (22 kB)\n",
            "  Downloading jax-0.4.35-py3-none-any.whl.metadata (22 kB)\n",
            "Collecting jaxlib<=0.4.35,>=0.4.34 (from jax>=0.3.15->tensorflow==2.12.0)\n",
            "  Downloading jaxlib-0.4.35-cp311-cp311-manylinux2014_x86_64.whl.metadata (983 bytes)\n",
            "Collecting jax>=0.3.15 (from tensorflow==2.12.0)\n",
            "  Downloading jax-0.4.34-py3-none-any.whl.metadata (22 kB)\n",
            "Collecting jaxlib<=0.4.34,>=0.4.34 (from jax>=0.3.15->tensorflow==2.12.0)\n",
            "  Downloading jaxlib-0.4.34-cp311-cp311-manylinux2014_x86_64.whl.metadata (983 bytes)\n",
            "Collecting jax>=0.3.15 (from tensorflow==2.12.0)\n",
            "  Downloading jax-0.4.33-py3-none-any.whl.metadata (22 kB)\n",
            "Collecting jaxlib<=0.4.33,>=0.4.33 (from jax>=0.3.15->tensorflow==2.12.0)\n",
            "  Downloading jaxlib-0.4.33-cp311-cp311-manylinux2014_x86_64.whl.metadata (983 bytes)\n",
            "INFO: This is taking longer than usual. You might need to provide the dependency resolver with stricter constraints to reduce runtime. See https://pip.pypa.io/warnings/backtracking for guidance. If you want to abort this run, press Ctrl + C.\n",
            "Collecting jax>=0.3.15 (from tensorflow==2.12.0)\n",
            "  Downloading jax-0.4.31-py3-none-any.whl.metadata (22 kB)\n",
            "Collecting jaxlib<=0.4.31,>=0.4.30 (from jax>=0.3.15->tensorflow==2.12.0)\n",
            "  Downloading jaxlib-0.4.31-cp311-cp311-manylinux2014_x86_64.whl.metadata (983 bytes)\n",
            "Collecting jax>=0.3.15 (from tensorflow==2.12.0)\n",
            "  Downloading jax-0.4.30-py3-none-any.whl.metadata (22 kB)\n",
            "Collecting jaxlib<=0.4.30,>=0.4.27 (from jax>=0.3.15->tensorflow==2.12.0)\n",
            "  Downloading jaxlib-0.4.30-cp311-cp311-manylinux2014_x86_64.whl.metadata (1.0 kB)\n",
            "Requirement already satisfied: scipy>=1.9 in /usr/local/lib/python3.11/dist-packages (from jax>=0.3.15->tensorflow==2.12.0) (1.15.3)\n",
            "Requirement already satisfied: google-auth<3,>=1.6.3 in /usr/local/lib/python3.11/dist-packages (from tensorboard<2.13,>=2.12->tensorflow==2.12.0) (2.38.0)\n",
            "Collecting google-auth-oauthlib<1.1,>=0.5 (from tensorboard<2.13,>=2.12->tensorflow==2.12.0)\n",
            "  Downloading google_auth_oauthlib-1.0.0-py2.py3-none-any.whl.metadata (2.7 kB)\n",
            "Requirement already satisfied: markdown>=2.6.8 in /usr/local/lib/python3.11/dist-packages (from tensorboard<2.13,>=2.12->tensorflow==2.12.0) (3.8)\n",
            "Requirement already satisfied: requests<3,>=2.21.0 in /usr/local/lib/python3.11/dist-packages (from tensorboard<2.13,>=2.12->tensorflow==2.12.0) (2.32.3)\n",
            "Requirement already satisfied: tensorboard-data-server<0.8.0,>=0.7.0 in /usr/local/lib/python3.11/dist-packages (from tensorboard<2.13,>=2.12->tensorflow==2.12.0) (0.7.2)\n",
            "Requirement already satisfied: werkzeug>=1.0.1 in /usr/local/lib/python3.11/dist-packages (from tensorboard<2.13,>=2.12->tensorflow==2.12.0) (3.1.3)\n",
            "Requirement already satisfied: cachetools<6.0,>=2.0.0 in /usr/local/lib/python3.11/dist-packages (from google-auth<3,>=1.6.3->tensorboard<2.13,>=2.12->tensorflow==2.12.0) (5.5.2)\n",
            "Requirement already satisfied: pyasn1-modules>=0.2.1 in /usr/local/lib/python3.11/dist-packages (from google-auth<3,>=1.6.3->tensorboard<2.13,>=2.12->tensorflow==2.12.0) (0.4.2)\n",
            "Requirement already satisfied: rsa<5,>=3.1.4 in /usr/local/lib/python3.11/dist-packages (from google-auth<3,>=1.6.3->tensorboard<2.13,>=2.12->tensorflow==2.12.0) (4.9.1)\n",
            "Requirement already satisfied: requests-oauthlib>=0.7.0 in /usr/local/lib/python3.11/dist-packages (from google-auth-oauthlib<1.1,>=0.5->tensorboard<2.13,>=2.12->tensorflow==2.12.0) (2.0.0)\n",
            "Requirement already satisfied: charset-normalizer<4,>=2 in /usr/local/lib/python3.11/dist-packages (from requests<3,>=2.21.0->tensorboard<2.13,>=2.12->tensorflow==2.12.0) (3.4.2)\n",
            "Requirement already satisfied: idna<4,>=2.5 in /usr/local/lib/python3.11/dist-packages (from requests<3,>=2.21.0->tensorboard<2.13,>=2.12->tensorflow==2.12.0) (3.10)\n",
            "Requirement already satisfied: urllib3<3,>=1.21.1 in /usr/local/lib/python3.11/dist-packages (from requests<3,>=2.21.0->tensorboard<2.13,>=2.12->tensorflow==2.12.0) (2.4.0)\n",
            "Requirement already satisfied: certifi>=2017.4.17 in /usr/local/lib/python3.11/dist-packages (from requests<3,>=2.21.0->tensorboard<2.13,>=2.12->tensorflow==2.12.0) (2025.6.15)\n",
            "Requirement already satisfied: MarkupSafe>=2.1.1 in /usr/local/lib/python3.11/dist-packages (from werkzeug>=1.0.1->tensorboard<2.13,>=2.12->tensorflow==2.12.0) (3.0.2)\n",
            "Requirement already satisfied: pyasn1<0.7.0,>=0.6.1 in /usr/local/lib/python3.11/dist-packages (from pyasn1-modules>=0.2.1->google-auth<3,>=1.6.3->tensorboard<2.13,>=2.12->tensorflow==2.12.0) (0.6.1)\n",
            "Requirement already satisfied: oauthlib>=3.0.0 in /usr/local/lib/python3.11/dist-packages (from requests-oauthlib>=0.7.0->google-auth-oauthlib<1.1,>=0.5->tensorboard<2.13,>=2.12->tensorflow==2.12.0) (3.2.2)\n",
            "Downloading tensorflow-2.12.0-cp311-cp311-manylinux_2_17_x86_64.manylinux2014_x86_64.whl (586.0 MB)\n",
            "\u001b[2K   \u001b[90m━━━━━━━━━━━━━━━━━━━━━━━━━━━━━━━━━━━━━━━━\u001b[0m \u001b[32m586.0/586.0 MB\u001b[0m \u001b[31m2.1 MB/s\u001b[0m eta \u001b[36m0:00:00\u001b[0m\n",
            "\u001b[?25hDownloading gast-0.4.0-py3-none-any.whl (9.8 kB)\n",
            "Downloading jax-0.4.30-py3-none-any.whl (2.0 MB)\n",
            "\u001b[2K   \u001b[90m━━━━━━━━━━━━━━━━━━━━━━━━━━━━━━━━━━━━━━━━\u001b[0m \u001b[32m2.0/2.0 MB\u001b[0m \u001b[31m64.0 MB/s\u001b[0m eta \u001b[36m0:00:00\u001b[0m\n",
            "\u001b[?25hDownloading keras-2.12.0-py2.py3-none-any.whl (1.7 MB)\n",
            "\u001b[2K   \u001b[90m━━━━━━━━━━━━━━━━━━━━━━━━━━━━━━━━━━━━━━━━\u001b[0m \u001b[32m1.7/1.7 MB\u001b[0m \u001b[31m54.5 MB/s\u001b[0m eta \u001b[36m0:00:00\u001b[0m\n",
            "\u001b[?25hDownloading numpy-1.23.5-cp311-cp311-manylinux_2_17_x86_64.manylinux2014_x86_64.whl (17.1 MB)\n",
            "\u001b[2K   \u001b[90m━━━━━━━━━━━━━━━━━━━━━━━━━━━━━━━━━━━━━━━━\u001b[0m \u001b[32m17.1/17.1 MB\u001b[0m \u001b[31m69.2 MB/s\u001b[0m eta \u001b[36m0:00:00\u001b[0m\n",
            "\u001b[?25hDownloading protobuf-4.25.8-cp37-abi3-manylinux2014_x86_64.whl (294 kB)\n",
            "\u001b[2K   \u001b[90m━━━━━━━━━━━━━━━━━━━━━━━━━━━━━━━━━━━━━━━━\u001b[0m \u001b[32m294.9/294.9 kB\u001b[0m \u001b[31m20.8 MB/s\u001b[0m eta \u001b[36m0:00:00\u001b[0m\n",
            "\u001b[?25hDownloading tensorboard-2.12.3-py3-none-any.whl (5.6 MB)\n",
            "\u001b[2K   \u001b[90m━━━━━━━━━━━━━━━━━━━━━━━━━━━━━━━━━━━━━━━━\u001b[0m \u001b[32m5.6/5.6 MB\u001b[0m \u001b[31m83.8 MB/s\u001b[0m eta \u001b[36m0:00:00\u001b[0m\n",
            "\u001b[?25hDownloading tensorflow_estimator-2.12.0-py2.py3-none-any.whl (440 kB)\n",
            "\u001b[2K   \u001b[90m━━━━━━━━━━━━━━━━━━━━━━━━━━━━━━━━━━━━━━━━\u001b[0m \u001b[32m440.7/440.7 kB\u001b[0m \u001b[31m22.6 MB/s\u001b[0m eta \u001b[36m0:00:00\u001b[0m\n",
            "\u001b[?25hDownloading wrapt-1.14.1-cp311-cp311-manylinux_2_5_x86_64.manylinux1_x86_64.manylinux_2_17_x86_64.manylinux2014_x86_64.whl (78 kB)\n",
            "\u001b[2K   \u001b[90m━━━━━━━━━━━━━━━━━━━━━━━━━━━━━━━━━━━━━━━━\u001b[0m \u001b[32m78.4/78.4 kB\u001b[0m \u001b[31m4.8 MB/s\u001b[0m eta \u001b[36m0:00:00\u001b[0m\n",
            "\u001b[?25hDownloading google_auth_oauthlib-1.0.0-py2.py3-none-any.whl (18 kB)\n",
            "Downloading jaxlib-0.4.30-cp311-cp311-manylinux2014_x86_64.whl (79.6 MB)\n",
            "\u001b[2K   \u001b[90m━━━━━━━━━━━━━━━━━━━━━━━━━━━━━━━━━━━━━━━━\u001b[0m \u001b[32m79.6/79.6 MB\u001b[0m \u001b[31m9.1 MB/s\u001b[0m eta \u001b[36m0:00:00\u001b[0m\n",
            "\u001b[?25hInstalling collected packages: wrapt, tensorflow-estimator, protobuf, numpy, keras, gast, jaxlib, google-auth-oauthlib, tensorboard, jax, tensorflow\n",
            "  Attempting uninstall: wrapt\n",
            "    Found existing installation: wrapt 1.17.2\n",
            "    Uninstalling wrapt-1.17.2:\n",
            "      Successfully uninstalled wrapt-1.17.2\n",
            "  Attempting uninstall: protobuf\n",
            "    Found existing installation: protobuf 5.29.5\n",
            "    Uninstalling protobuf-5.29.5:\n",
            "      Successfully uninstalled protobuf-5.29.5\n",
            "  Attempting uninstall: numpy\n",
            "    Found existing installation: numpy 2.0.2\n",
            "    Uninstalling numpy-2.0.2:\n",
            "      Successfully uninstalled numpy-2.0.2\n",
            "  Attempting uninstall: keras\n",
            "    Found existing installation: keras 3.8.0\n",
            "    Uninstalling keras-3.8.0:\n",
            "      Successfully uninstalled keras-3.8.0\n",
            "  Attempting uninstall: gast\n",
            "    Found existing installation: gast 0.6.0\n",
            "    Uninstalling gast-0.6.0:\n",
            "      Successfully uninstalled gast-0.6.0\n",
            "  Attempting uninstall: jaxlib\n",
            "    Found existing installation: jaxlib 0.5.1\n",
            "    Uninstalling jaxlib-0.5.1:\n",
            "      Successfully uninstalled jaxlib-0.5.1\n",
            "  Attempting uninstall: google-auth-oauthlib\n",
            "    Found existing installation: google-auth-oauthlib 1.2.2\n",
            "    Uninstalling google-auth-oauthlib-1.2.2:\n",
            "      Successfully uninstalled google-auth-oauthlib-1.2.2\n",
            "  Attempting uninstall: tensorboard\n",
            "    Found existing installation: tensorboard 2.18.0\n",
            "    Uninstalling tensorboard-2.18.0:\n",
            "      Successfully uninstalled tensorboard-2.18.0\n",
            "  Attempting uninstall: jax\n",
            "    Found existing installation: jax 0.5.2\n",
            "    Uninstalling jax-0.5.2:\n",
            "      Successfully uninstalled jax-0.5.2\n",
            "  Attempting uninstall: tensorflow\n",
            "    Found existing installation: tensorflow 2.18.0\n",
            "    Uninstalling tensorflow-2.18.0:\n",
            "      Successfully uninstalled tensorflow-2.18.0\n",
            "\u001b[31mERROR: pip's dependency resolver does not currently take into account all the packages that are installed. This behaviour is the source of the following dependency conflicts.\n",
            "pymc 5.23.0 requires numpy>=1.25.0, but you have numpy 1.23.5 which is incompatible.\n",
            "albucore 0.0.24 requires numpy>=1.24.4, but you have numpy 1.23.5 which is incompatible.\n",
            "grpcio-status 1.71.0 requires protobuf<6.0dev,>=5.26.1, but you have protobuf 4.25.8 which is incompatible.\n",
            "xarray-einstats 0.9.0 requires numpy>=1.25, but you have numpy 1.23.5 which is incompatible.\n",
            "albumentations 2.0.8 requires numpy>=1.24.4, but you have numpy 1.23.5 which is incompatible.\n",
            "flax 0.10.6 requires jax>=0.5.1, but you have jax 0.4.30 which is incompatible.\n",
            "chex 0.1.89 requires numpy>=1.24.1, but you have numpy 1.23.5 which is incompatible.\n",
            "db-dtypes 1.4.3 requires numpy>=1.24.0, but you have numpy 1.23.5 which is incompatible.\n",
            "tensorflow-decision-forests 1.11.0 requires tensorflow==2.18.0, but you have tensorflow 2.12.0 which is incompatible.\n",
            "tensorflow-text 2.18.1 requires tensorflow<2.19,>=2.18.0, but you have tensorflow 2.12.0 which is incompatible.\n",
            "orbax-checkpoint 0.11.15 requires jax>=0.5.0, but you have jax 0.4.30 which is incompatible.\n",
            "bigframes 2.6.0 requires cloudpickle>=2.0.0, but you have cloudpickle 1.6.0 which is incompatible.\n",
            "bigframes 2.6.0 requires numpy>=1.24.0, but you have numpy 1.23.5 which is incompatible.\n",
            "xarray 2025.3.1 requires numpy>=1.24, but you have numpy 1.23.5 which is incompatible.\n",
            "treescope 0.1.9 requires numpy>=1.25.2, but you have numpy 1.23.5 which is incompatible.\n",
            "blosc2 3.4.0 requires numpy>=1.26, but you have numpy 1.23.5 which is incompatible.\n",
            "tf-keras 2.18.0 requires tensorflow<2.19,>=2.18, but you have tensorflow 2.12.0 which is incompatible.\n",
            "ydf 0.12.0 requires protobuf<6.0.0,>=5.29.1, but you have protobuf 4.25.8 which is incompatible.\n",
            "scikit-image 0.25.2 requires numpy>=1.24, but you have numpy 1.23.5 which is incompatible.\n",
            "imbalanced-learn 0.13.0 requires numpy<3,>=1.24.3, but you have numpy 1.23.5 which is incompatible.\n",
            "thinc 8.3.6 requires numpy<3.0.0,>=2.0.0, but you have numpy 1.23.5 which is incompatible.\u001b[0m\u001b[31m\n",
            "\u001b[0mSuccessfully installed gast-0.4.0 google-auth-oauthlib-1.0.0 jax-0.4.30 jaxlib-0.4.30 keras-2.12.0 numpy-1.23.5 protobuf-4.25.8 tensorboard-2.12.3 tensorflow-2.12.0 tensorflow-estimator-2.12.0 wrapt-1.14.1\n"
          ]
        },
        {
          "data": {
            "application/vnd.colab-display-data+json": {
              "id": "bb5e3a3e566342e583efd136c9728389",
              "pip_warning": {
                "packages": [
                  "google",
                  "numpy"
                ]
              }
            }
          },
          "metadata": {},
          "output_type": "display_data"
        }
      ],
      "source": [
        "# if IN_COLAB:\n",
        "#   %pip install gym==0.17.3\n",
        "#   %pip install git+https://github.com/Kojoley/atari-py.git\n",
        "#   %pip install keras-rl2==1.0.5\n",
        "#   %pip install tensorflow==2.12.0\n",
        "\n",
        "# else:\n",
        "#   %pip install gym==0.17.3\n",
        "#   %pip install git+https://github.com/Kojoley/atari-py.git\n",
        "#   %pip install pyglet==1.5.0\n",
        "#   %pip install h5py==3.1.0\n",
        "#   %pip install Pillow==9.5.0\n",
        "#   %pip install keras-rl2==1.0.5\n",
        "#   %pip install Keras==2.2.4\n",
        "#   %pip install tensorflow==2.5.3\n",
        "#   %pip install torch==2.0.1\n",
        "#   %pip install agents==1.4.0"
      ]
    },
    {
      "cell_type": "markdown",
      "metadata": {
        "id": "4hzP_5ZuGb2X"
      },
      "source": [
        "---\n",
        "## **PARTE 2**. Enunciado\n",
        "\n",
        "Consideraciones a tener en cuenta:\n",
        "\n",
        "- El entorno sobre el que trabajaremos será _SpaceInvaders-v0_ y el algoritmo que usaremos será _DQN_.\n",
        "\n",
        "- Para nuestro ejercicio, el requisito mínimo será alcanzado cuando el agente consiga una **media de recompensa por encima de 20 puntos en modo test**. Por ello, esta media de la recompensa se calculará a partir del código de test en la última celda del notebook.\n",
        "\n",
        "Este proyecto práctico consta de tres partes:\n",
        "\n",
        "1.   Implementar la red neuronal que se usará en la solución\n",
        "2.   Implementar las distintas piezas de la solución DQN\n",
        "3.   Justificar la respuesta en relación a los resultados obtenidos\n",
        "\n",
        "**Rúbrica**: Se valorará la originalidad en la solución aportada, así como la capacidad de discutir los resultados de forma detallada. El requisito mínimo servirá para aprobar la actividad, bajo premisa de que la discusión del resultado sera apropiada.\n",
        "\n",
        "IMPORTANTE:\n",
        "\n",
        "* Si no se consigue una puntuación óptima, responder sobre la mejor puntuación obtenida.\n",
        "* Para entrenamientos largos, recordad que podéis usar checkpoints de vuestros modelos para retomar los entrenamientos. En este caso, recordad cambiar los parámetros adecuadamente (sobre todo los relacionados con el proceso de exploración).\n",
        "* Se deberá entregar unicamente el notebook y los pesos del mejor modelo en un fichero .zip, de forma organizada.\n",
        "* Cada alumno deberá de subir la solución de forma individual."
      ]
    },
    {
      "cell_type": "markdown",
      "metadata": {
        "id": "6_b3mzw8IzJP"
      },
      "source": [
        "---\n",
        "## **PARTE 3**. Desarrollo y preguntas"
      ]
    },
    {
      "cell_type": "markdown",
      "metadata": {
        "id": "DyvAmFFK-uHY"
      },
      "source": [
        "### **Introducción**\n",
        "\n",
        "El entorno sobre el que vamos a trabajar es SpaceInvaders-v0, que pertenece a la colección de Atari Games disponible en Gymnasium. Es una versión del videojuego Space Invaders, donde controlasuna nave que se mueve lateralmente por la parte inferior de la pantalla y dispara a los enemigos que van bajando de la parte superior de la pantalla.\n",
        "\n",
        "El **objetivo principal** es sobrevivir y destruir enemigos, y se obtienen recomensas cuando se destruye al enemigo.\n",
        "\n",
        "Antes de implementar los modelos, debemos tener en cuenta diferentes cosas:\n",
        "\n",
        "\n",
        "*   Las observaciones son de tipo imagen RGB de 210x160 píxeles con 3 canales. Por lo tanto, nuestro **input** es de tipo imagen.\n",
        "*   Se pueden realizar diferentes tipos de **acciones**:\n",
        "    * 0: NOOP (no hacer nada)\n",
        "    * 1: FIRE (dispara)\n",
        "    * 2: RIGHT\n",
        "    * 3: LEFT\n",
        "    * 4: RIGHTFIRE\n",
        "    * 5: LEFTFIRE\n",
        "* **Recompensas**: Cada enemigo destruido da una recompensa positiva. Si pierdes una vida, no necesariamente recibes recompensa negativa, pero el episodio puede terminar."
      ]
    },
    {
      "cell_type": "markdown",
      "metadata": {
        "id": "duPmUNOVGb2a"
      },
      "source": [
        "#### Importar librerías"
      ]
    },
    {
      "cell_type": "code",
      "execution_count": 44,
      "metadata": {
        "id": "j3eRhgI-Gb2a"
      },
      "outputs": [],
      "source": [
        "from __future__ import division\n",
        "\n",
        "from PIL import Image\n",
        "import numpy as np\n",
        "import gym\n",
        "\n",
        "from tensorflow.keras.models import Sequential, Model\n",
        "from tensorflow.keras.layers import (Dense, Activation, Flatten, Convolution2D, Permute, Input,\n",
        "                                     SeparableConv2D, Lambda, Subtract, Add, Conv2D,\n",
        "                                     DepthwiseConv2D, BatchNormalization, ReLU, InputLayer)\n",
        "from tensorflow.keras.optimizers import Adam\n",
        "import tensorflow.keras.backend as K\n",
        "\n",
        "from rl.agents.dqn import DQNAgent\n",
        "from rl.policy import LinearAnnealedPolicy, BoltzmannQPolicy, EpsGreedyQPolicy\n",
        "from rl.memory import SequentialMemory\n",
        "from rl.core import Processor\n",
        "from rl.callbacks import FileLogger, ModelIntervalCheckpoint\n",
        "\n",
        "import os\n",
        "import tensorflow as tf\n",
        "from tensorflow.keras.models import Model\n",
        "import tensorflow.keras.backend as K\n",
        "import time\n",
        "from tensorflow.keras.callbacks import Callback\n",
        "from rl.callbacks import FileLogger\n",
        "\n",
        "from gym import wrappers\n",
        "import io\n",
        "import base64\n",
        "from IPython.display import HTML\n",
        "\n",
        "\n",
        "# import matplotlib.pyplot as plt\n",
        "# from tensorflow.keras.utils import plot_model"
      ]
    },
    {
      "cell_type": "code",
      "execution_count": 45,
      "metadata": {
        "id": "OWGcTo0QNy5o"
      },
      "outputs": [],
      "source": [
        "path = 'Experimento_2'\n",
        "\n",
        "# Define subdirectorios\n",
        "videos_path = os.path.join(path, 'videos')\n",
        "modelos_path = os.path.join(path, 'modelos')\n",
        "\n",
        "# Crear directorios si no existen\n",
        "os.makedirs(videos_path, exist_ok=True)\n",
        "os.makedirs(modelos_path, exist_ok=True)"
      ]
    },
    {
      "cell_type": "code",
      "execution_count": 46,
      "metadata": {},
      "outputs": [
        {
          "name": "stdout",
          "output_type": "stream",
          "text": [
            "[PhysicalDevice(name='/physical_device:GPU:0', device_type='GPU')]\n"
          ]
        }
      ],
      "source": [
        "print(tf.config.list_physical_devices('GPU'))"
      ]
    },
    {
      "cell_type": "markdown",
      "metadata": {
        "id": "f4jgQjzoGb2a"
      },
      "source": [
        "### **Configuración base**"
      ]
    },
    {
      "cell_type": "code",
      "execution_count": 47,
      "metadata": {
        "id": "jwOE6I_KGb2a"
      },
      "outputs": [],
      "source": [
        "# Parámetros\n",
        "INPUT_SHAPE = (84, 84)\n",
        "WINDOW_LENGTH = 4\n",
        "\n",
        "# Entorno\n",
        "env_name = 'SpaceInvaders-v0'\n",
        "env = gym.make(env_name)\n",
        "\n",
        "np.random.seed(123)\n",
        "env.seed(123)\n",
        "nb_actions = env.action_space.n"
      ]
    },
    {
      "cell_type": "code",
      "execution_count": 48,
      "metadata": {
        "id": "9jGEZUcpGb2a"
      },
      "outputs": [],
      "source": [
        "class AtariProcessor(Processor):\n",
        "    def process_observation(self, observation):\n",
        "        assert observation.ndim == 3  # (height, width, channel)\n",
        "        img = Image.fromarray(observation)\n",
        "        img = img.resize(INPUT_SHAPE).convert('L')\n",
        "        processed_observation = np.array(img)\n",
        "        assert processed_observation.shape == INPUT_SHAPE\n",
        "        return processed_observation.astype('uint8')\n",
        "\n",
        "    def process_state_batch(self, batch):\n",
        "        processed_batch = batch.astype('float32') / 255.\n",
        "        return processed_batch\n",
        "\n",
        "    def process_reward(self, reward):\n",
        "        return np.clip(reward, -1., 1.)"
      ]
    },
    {
      "cell_type": "code",
      "execution_count": 49,
      "metadata": {
        "colab": {
          "base_uri": "https://localhost:8080/"
        },
        "id": "iMglriV87VOa",
        "outputId": "7c24c46b-8611-475f-c03d-f9da4adbb0a5"
      },
      "outputs": [
        {
          "name": "stdout",
          "output_type": "stream",
          "text": [
            "Numero de acciones disponibles: 6\n"
          ]
        }
      ],
      "source": [
        "print(\"Numero de acciones disponibles: \" + str(nb_actions))"
      ]
    },
    {
      "cell_type": "code",
      "execution_count": 50,
      "metadata": {
        "colab": {
          "base_uri": "https://localhost:8080/"
        },
        "id": "NvfPBYNU7cKH",
        "outputId": "e9570af2-d9a5-4295-fa13-ec9809ae3dc5"
      },
      "outputs": [
        {
          "name": "stdout",
          "output_type": "stream",
          "text": [
            "Formato de las observaciones:\n"
          ]
        },
        {
          "data": {
            "text/plain": [
              "Box(0, 255, (210, 160, 3), uint8)"
            ]
          },
          "execution_count": 50,
          "metadata": {},
          "output_type": "execute_result"
        }
      ],
      "source": [
        "print(\"Formato de las observaciones:\")\n",
        "env.observation_space"
      ]
    },
    {
      "cell_type": "markdown",
      "metadata": {
        "id": "wb3_y2okCbz1"
      },
      "source": [
        "Tal y como hemos visto, vamos a trabajar con las 6 acciones mencionadas anteriormente y con imágenes RGB de 210x160 píxeles y valores de intensidad de 0 a 255, lo cual es una entrada de alta dimensionalidad y con información que, en nuestro caso, puede ser rebundante o irrelevante para la toma de decisiones.\n",
        "\n",
        "Es por ello que creemos que puede ser mejor aplicar un preprocesamiento de la imagen, a una conversion de tonos grises, y reescalando la imagen.\n",
        "\n",
        "\n"
      ]
    },
    {
      "cell_type": "code",
      "execution_count": 10,
      "metadata": {
        "colab": {
          "base_uri": "https://localhost:8080/",
          "height": 429
        },
        "id": "88RImiauB7pV",
        "outputId": "a25ba917-015d-4858-d3a0-cc1e404f3e9b"
      },
      "outputs": [
        {
          "data": {
            "image/png": "[encoded data removed]",
            "text/plain": [
              "<Figure size 640x480 with 1 Axes>"
            ]
          },
          "metadata": {},
          "output_type": "display_data"
        }
      ],
      "source": [
        "# Obtener un estado inicial del entorno\n",
        "obs = env.reset()\n",
        "processor = AtariProcessor()\n",
        "\n",
        "# Procesar la observación\n",
        "processed_obs = processor.process_observation(obs)\n",
        "\n",
        "# Mostrar imagen procesada\n",
        "plt.imshow(processed_obs, cmap='gray')\n",
        "plt.title(\"Observación procesada:\")\n",
        "plt.axis('off')\n",
        "plt.show()"
      ]
    },
    {
      "cell_type": "markdown",
      "metadata": {
        "id": "7yitXTADGb2b"
      },
      "source": [
        "## **1. Implementación de la red neuronal**"
      ]
    },
    {
      "cell_type": "markdown",
      "metadata": {
        "id": "6cakby6-3rEf"
      },
      "source": [
        "Los hiperparámetros de la red neuronal aplicados son:"
      ]
    },
    {
      "cell_type": "code",
      "execution_count": 51,
      "metadata": {
        "id": "yoTHazNuOEPy"
      },
      "outputs": [],
      "source": [
        "LEARNING_RATE = 0.00005\n",
        "GAMMA = 0.99\n",
        "TARGET_MODEL_UPDATE = 10000\n",
        "DELTA_CLIP = 1.0\n",
        "TRAIN_INTERVAL = 24"
      ]
    },
    {
      "cell_type": "markdown",
      "metadata": {
        "id": "FNT-oRDeOIq1"
      },
      "source": [
        "### MODELO"
      ]
    },
    {
      "cell_type": "code",
      "execution_count": 52,
      "metadata": {
        "id": "TZjKw0B0OmQ9"
      },
      "outputs": [],
      "source": [
        "def create_mobile_like_dqn(input_shape, num_actions):\n",
        "    x_in = Input(shape=(input_shape[0], input_shape[1], input_shape[2]))\n",
        "    x = Permute((2, 3, 1))(x_in)  # (84,84,frames)\n",
        "    # Primer conv estándar ligero\n",
        "    x = Conv2D(16, (3, 3), strides=2, padding='same')(x)  # ~(42x42x16)\n",
        "    x = BatchNormalization()(x); x = ReLU()(x)\n",
        "    # Bloque depthwise-pointwise\n",
        "    def dw_pw(block_input, filters, strides):\n",
        "        y = DepthwiseConv2D((3,3), strides=strides, padding='same')(block_input) # aplica una convolución 3x3 a cada canal por separado\n",
        "        y = BatchNormalization()(y); y = ReLU()(y)\n",
        "        y = Conv2D(filters, (1,1), padding='same')(y) # combina los canales resultantes, aprendiendo cómo mezclarlos (pointwise)\n",
        "        y = BatchNormalization()(y); y = ReLU()(y)\n",
        "        return y\n",
        "    x = dw_pw(x, 32, strides=2)   # ~(21x21x32)\n",
        "    x = dw_pw(x, 32, strides=2)   # ~(11x11x32)\n",
        "    x = dw_pw(x, 64, strides=1)   # ~(11x11x64)\n",
        "    x = Flatten()(x)\n",
        "    x = Dense(256, activation='relu')(x)\n",
        "    x = Dense(num_actions, activation='linear', dtype='float32')(x)\n",
        "    return Model(inputs=x_in, outputs=x)\n",
        "\n",
        "# Prueba rápida\n",
        "#model = create_mobile_like_dqn((4, 84, 84), num_actions=6)\n",
        "#model.compile(optimizer='adam', loss='mse')\n",
        "#model.summary()"
      ]
    },
    {
      "cell_type": "code",
      "execution_count": 53,
      "metadata": {
        "id": "qTT0b7TqPEAh"
      },
      "outputs": [],
      "source": [
        "input_shape = (WINDOW_LENGTH,) + INPUT_SHAPE\n",
        "num_actions = nb_actions\n",
        "\n",
        "model_like_dqn = create_mobile_like_dqn(input_shape, num_actions)\n",
        "#model_like_dqn.summary()"
      ]
    },
    {
      "cell_type": "code",
      "execution_count": 17,
      "metadata": {
        "colab": {
          "base_uri": "https://localhost:8080/",
          "height": 1000
        },
        "id": "-2Yc-gUyQZii",
        "outputId": "5f50df31-02e4-4ea8-87b9-72f485e47619"
      },
      "outputs": [
        {
          "data": {
            "image/png": "[encoded data removed]",
            "text/plain": [
              "<IPython.core.display.Image object>"
            ]
          },
          "execution_count": 17,
          "metadata": {},
          "output_type": "execute_result"
        }
      ],
      "source": [
        "plot_model(model_like_dqn,show_shapes=True, dpi=80)"
      ]
    },
    {
      "cell_type": "markdown",
      "metadata": {
        "id": "OB9-_5HPGb2b"
      },
      "source": [
        "## **2. Implementación de la solución DQN**"
      ]
    },
    {
      "cell_type": "code",
      "execution_count": 54,
      "metadata": {},
      "outputs": [],
      "source": [
        "nb_steps = 500000"
      ]
    },
    {
      "cell_type": "code",
      "execution_count": 55,
      "metadata": {
        "id": "OVlMUMJWQOkH"
      },
      "outputs": [],
      "source": [
        "# memoria\n",
        "memory = SequentialMemory(limit=nb_steps, window_length=WINDOW_LENGTH)\n",
        "\n",
        "# Procesador\n",
        "processor = AtariProcessor()\n",
        "\n",
        "# Polícia de exploración\n",
        "policy = LinearAnnealedPolicy(EpsGreedyQPolicy(), attr='eps', value_max=1.0, value_min=0.1, value_test=0.05, nb_steps=nb_steps)"
      ]
    },
    {
      "cell_type": "code",
      "execution_count": 56,
      "metadata": {
        "id": "e1qcc4VKQObW"
      },
      "outputs": [],
      "source": [
        "# Agente\n",
        "dqn_like_dqn = DQNAgent(\n",
        "    model=model_like_dqn,\n",
        "    nb_actions=num_actions,\n",
        "    policy=policy,\n",
        "    memory=memory,\n",
        "    processor=processor,\n",
        "    nb_steps_warmup = 50000, # indica cuántos pasos (interacciones con el entorno) el agente debe ejecutar antes de comenzar a entrenar el modelo\n",
        "    gamma=GAMMA,\n",
        "    target_model_update = TARGET_MODEL_UPDATE,\n",
        "    train_interval = TRAIN_INTERVAL,\n",
        "    delta_clip = DELTA_CLIP\n",
        ")\n",
        "\n",
        "optimizer = Adam(learning_rate = LEARNING_RATE)"
      ]
    },
    {
      "cell_type": "code",
      "execution_count": 57,
      "metadata": {
        "id": "UoJ5a-IwQ7Wv"
      },
      "outputs": [],
      "source": [
        "# Compilar el agente\n",
        "dqn_like_dqn.compile(optimizer=optimizer, metrics=['mae'])"
      ]
    },
    {
      "cell_type": "code",
      "execution_count": null,
      "metadata": {
        "colab": {
          "base_uri": "https://localhost:8080/"
        },
        "id": "6K1QFGzP2kTC",
        "outputId": "729d6e18-ba91-44a6-d746-d61710a4e304"
      },
      "outputs": [
        {
          "name": "stdout",
          "output_type": "stream",
          "text": [
            "\n",
            "➡️ Entrenando desde el paso 0 hasta 250000...\n",
            "Training for 250000 steps ...\n",
            "Interval 1 (0 steps performed)\n"
          ]
        },
        {
          "name": "stderr",
          "output_type": "stream",
          "text": [
            "/usr/local/lib/python3.11/dist-packages/keras/engine/training_v1.py:2359: UserWarning: `Model.state_updates` will be removed in a future version. This property should not be used in TensorFlow 2.0, as `updates` are applied automatically.\n",
            "  updates=self.state_updates,\n"
          ]
        },
        {
          "name": "stdout",
          "output_type": "stream",
          "text": [
            "10000/10000 [==============================] - 72s 7ms/step - reward: 0.0183\n",
            "13 episodes - episode_reward: 14.077 [6.000, 22.000] - ale.lives: 2.020\n",
            "\n",
            "Interval 2 (10000 steps performed)\n",
            "10000/10000 [==============================] - 69s 7ms/step - reward: 0.0190\n",
            "14 episodes - episode_reward: 13.000 [7.000, 23.000] - ale.lives: 2.149\n",
            "\n",
            "Interval 3 (20000 steps performed)\n",
            "10000/10000 [==============================] - 67s 7ms/step - reward: 0.0204\n",
            "12 episodes - episode_reward: 16.417 [5.000, 35.000] - ale.lives: 2.138\n",
            "\n",
            "Interval 4 (30000 steps performed)\n",
            "10000/10000 [==============================] - 68s 7ms/step - reward: 0.0228\n",
            "12 episodes - episode_reward: 19.500 [5.000, 26.000] - ale.lives: 2.087\n",
            "\n",
            "Interval 5 (40000 steps performed)\n",
            "10000/10000 [==============================] - 69s 7ms/step - reward: 0.0185\n",
            "13 episodes - episode_reward: 14.846 [7.000, 23.000] - ale.lives: 2.116\n",
            "\n",
            "Interval 6 (50000 steps performed)\n",
            "10000/10000 [==============================] - 597s 60ms/step - reward: 0.0159\n",
            "10 episodes - episode_reward: 14.500 [5.000, 25.000] - loss: 0.010 - mae: 0.032 - mean_q: 0.046 - ale.lives: 2.010\n",
            "\n",
            "Interval 7 (60000 steps performed)\n",
            "10000/10000 [==============================] - 598s 60ms/step - reward: 0.0162\n",
            "15 episodes - episode_reward: 10.800 [4.000, 18.000] - loss: 0.009 - mae: 0.056 - mean_q: 0.075 - ale.lives: 2.108\n",
            "\n",
            "Interval 8 (70000 steps performed)\n",
            "10000/10000 [==============================] - 598s 60ms/step - reward: 0.0173\n",
            "14 episodes - episode_reward: 13.000 [3.000, 25.000] - loss: 0.009 - mae: 0.081 - mean_q: 0.107 - ale.lives: 1.935\n",
            "\n",
            "Interval 9 (80000 steps performed)\n",
            "10000/10000 [==============================] - 603s 60ms/step - reward: 0.0172\n",
            "11 episodes - episode_reward: 15.636 [3.000, 25.000] - loss: 0.009 - mae: 0.101 - mean_q: 0.132 - ale.lives: 1.954\n",
            "\n",
            "Interval 10 (90000 steps performed)\n",
            "10000/10000 [==============================] - 598s 60ms/step - reward: 0.0173\n",
            "9 episodes - episode_reward: 18.556 [11.000, 35.000] - loss: 0.009 - mae: 0.125 - mean_q: 0.163 - ale.lives: 2.034\n",
            "\n",
            "Interval 11 (100000 steps performed)\n",
            "10000/10000 [==============================] - 604s 60ms/step - reward: 0.0147\n",
            "13 episodes - episode_reward: 11.769 [3.000, 23.000] - loss: 0.009 - mae: 0.152 - mean_q: 0.196 - ale.lives: 1.979\n",
            "\n",
            "Interval 12 (110000 steps performed)\n",
            "10000/10000 [==============================] - 606s 61ms/step - reward: 0.0162\n",
            "12 episodes - episode_reward: 13.667 [6.000, 31.000] - loss: 0.008 - mae: 0.177 - mean_q: 0.226 - ale.lives: 2.073\n",
            "\n",
            "Interval 13 (120000 steps performed)\n",
            "10000/10000 [==============================] - 615s 61ms/step - reward: 0.0156\n",
            "13 episodes - episode_reward: 11.385 [1.000, 24.000] - loss: 0.009 - mae: 0.208 - mean_q: 0.265 - ale.lives: 1.913\n",
            "\n",
            "Interval 14 (130000 steps performed)\n",
            "10000/10000 [==============================] - 620s 62ms/step - reward: 0.0169\n",
            "12 episodes - episode_reward: 14.500 [4.000, 28.000] - loss: 0.009 - mae: 0.235 - mean_q: 0.297 - ale.lives: 2.156\n",
            "\n",
            "Interval 15 (140000 steps performed)\n",
            "10000/10000 [==============================] - 629s 63ms/step - reward: 0.0136\n",
            "15 episodes - episode_reward: 9.467 [4.000, 22.000] - loss: 0.009 - mae: 0.273 - mean_q: 0.345 - ale.lives: 2.014\n",
            "\n",
            "Interval 16 (150000 steps performed)\n",
            "10000/10000 [==============================] - 624s 62ms/step - reward: 0.0161\n",
            "10 episodes - episode_reward: 14.900 [3.000, 31.000] - loss: 0.009 - mae: 0.291 - mean_q: 0.365 - ale.lives: 2.092\n",
            "\n",
            "Interval 17 (160000 steps performed)\n",
            "10000/10000 [==============================] - 631s 63ms/step - reward: 0.0164\n",
            "12 episodes - episode_reward: 14.667 [5.000, 26.000] - loss: 0.009 - mae: 0.310 - mean_q: 0.389 - ale.lives: 1.892\n",
            "\n",
            "Interval 18 (170000 steps performed)\n",
            "10000/10000 [==============================] - 628s 63ms/step - reward: 0.0143\n",
            "11 episodes - episode_reward: 12.545 [6.000, 21.000] - loss: 0.009 - mae: 0.341 - mean_q: 0.427 - ale.lives: 1.920\n",
            "\n",
            "Interval 19 (180000 steps performed)\n",
            "10000/10000 [==============================] - 626s 63ms/step - reward: 0.0146\n",
            "12 episodes - episode_reward: 12.250 [5.000, 24.000] - loss: 0.009 - mae: 0.370 - mean_q: 0.463 - ale.lives: 2.040\n",
            "\n",
            "Interval 20 (190000 steps performed)\n",
            "10000/10000 [==============================] - 639s 64ms/step - reward: 0.0162\n",
            "11 episodes - episode_reward: 14.545 [4.000, 24.000] - loss: 0.009 - mae: 0.393 - mean_q: 0.492 - ale.lives: 2.138\n",
            "\n",
            "Interval 21 (200000 steps performed)\n",
            "10000/10000 [==============================] - 635s 64ms/step - reward: 0.0159\n",
            "14 episodes - episode_reward: 11.643 [5.000, 18.000] - loss: 0.010 - mae: 0.421 - mean_q: 0.525 - ale.lives: 2.021\n",
            "\n",
            "Interval 22 (210000 steps performed)\n",
            "10000/10000 [==============================] - 650s 65ms/step - reward: 0.0161\n",
            "14 episodes - episode_reward: 11.214 [7.000, 19.000] - loss: 0.010 - mae: 0.462 - mean_q: 0.575 - ale.lives: 1.980\n",
            "\n",
            "Interval 23 (220000 steps performed)\n",
            "10000/10000 [==============================] - 646s 65ms/step - reward: 0.0153\n",
            "13 episodes - episode_reward: 11.923 [5.000, 18.000] - loss: 0.010 - mae: 0.481 - mean_q: 0.598 - ale.lives: 1.955\n",
            "\n",
            "Interval 24 (230000 steps performed)\n",
            "10000/10000 [==============================] - 654s 65ms/step - reward: 0.0173\n",
            "11 episodes - episode_reward: 14.545 [3.000, 29.000] - loss: 0.010 - mae: 0.513 - mean_q: 0.637 - ale.lives: 2.054\n",
            "\n",
            "Interval 25 (240000 steps performed)\n",
            "10000/10000 [==============================] - 658s 66ms/step - reward: 0.0152\n",
            "done, took 12806.045 seconds\n",
            "Training for 1000000 steps ...\n",
            "Interval 1 (0 steps performed)\n",
            "10000/10000 [==============================] - 71s 7ms/step - reward: 0.0142\n",
            "13 episodes - episode_reward: 10.462 [5.000, 19.000] - ale.lives: 1.990\n",
            "\n",
            "Interval 2 (10000 steps performed)\n",
            "10000/10000 [==============================] - 71s 7ms/step - reward: 0.0129\n",
            "14 episodes - episode_reward: 9.214 [4.000, 20.000] - ale.lives: 1.887\n",
            "\n",
            "Interval 3 (20000 steps performed)\n",
            "10000/10000 [==============================] - 72s 7ms/step - reward: 0.0123\n",
            "13 episodes - episode_reward: 9.538 [4.000, 18.000] - ale.lives: 1.959\n",
            "\n",
            "Interval 4 (30000 steps performed)\n",
            "10000/10000 [==============================] - 70s 7ms/step - reward: 0.0125\n",
            "15 episodes - episode_reward: 8.200 [5.000, 20.000] - ale.lives: 1.995\n",
            "\n",
            "Interval 5 (40000 steps performed)\n",
            "10000/10000 [==============================] - 70s 7ms/step - reward: 0.0151\n",
            "13 episodes - episode_reward: 12.154 [6.000, 20.000] - ale.lives: 1.975\n",
            "\n",
            "Interval 6 (50000 steps performed)\n",
            "10000/10000 [==============================] - 682s 68ms/step - reward: 0.0172\n",
            "13 episodes - episode_reward: 13.231 [3.000, 26.000] - loss: 0.011 - mae: 0.567 - mean_q: 0.701 - ale.lives: 2.022\n",
            "\n",
            "Interval 7 (60000 steps performed)\n",
            "10000/10000 [==============================] - 683s 68ms/step - reward: 0.0151\n",
            "14 episodes - episode_reward: 10.429 [0.000, 23.000] - loss: 0.010 - mae: 0.590 - mean_q: 0.730 - ale.lives: 2.053\n",
            "\n",
            "Interval 8 (70000 steps performed)\n",
            "10000/10000 [==============================] - 683s 68ms/step - reward: 0.0217\n",
            "11 episodes - episode_reward: 18.909 [9.000, 31.000] - loss: 0.010 - mae: 0.614 - mean_q: 0.758 - ale.lives: 2.161\n",
            "\n",
            "Interval 9 (80000 steps performed)\n",
            "10000/10000 [==============================] - 689s 69ms/step - reward: 0.0198\n",
            "12 episodes - episode_reward: 17.250 [3.000, 35.000] - loss: 0.010 - mae: 0.633 - mean_q: 0.782 - ale.lives: 2.037\n",
            "\n",
            "Interval 10 (90000 steps performed)\n",
            "10000/10000 [==============================] - 699s 70ms/step - reward: 0.0171\n",
            "14 episodes - episode_reward: 11.929 [4.000, 26.000] - loss: 0.011 - mae: 0.661 - mean_q: 0.816 - ale.lives: 2.111\n",
            "\n",
            "Interval 11 (100000 steps performed)\n",
            "10000/10000 [==============================] - 705s 70ms/step - reward: 0.0181\n",
            "15 episodes - episode_reward: 12.333 [6.000, 27.000] - loss: 0.011 - mae: 0.684 - mean_q: 0.844 - ale.lives: 1.995\n",
            "\n",
            "Interval 12 (110000 steps performed)\n",
            "10000/10000 [==============================] - 688s 69ms/step - reward: 0.0171\n",
            "14 episodes - episode_reward: 11.429 [3.000, 25.000] - loss: 0.011 - mae: 0.700 - mean_q: 0.863 - ale.lives: 1.992\n",
            "\n",
            "Interval 13 (120000 steps performed)\n",
            "10000/10000 [==============================] - 698s 70ms/step - reward: 0.0168\n",
            "17 episodes - episode_reward: 10.824 [5.000, 22.000] - loss: 0.011 - mae: 0.721 - mean_q: 0.888 - ale.lives: 2.015\n",
            "\n",
            "Interval 14 (130000 steps performed)\n",
            "10000/10000 [==============================] - 703s 70ms/step - reward: 0.0187\n",
            "13 episodes - episode_reward: 14.308 [4.000, 30.000] - loss: 0.011 - mae: 0.756 - mean_q: 0.931 - ale.lives: 2.152\n",
            "\n",
            "Interval 15 (140000 steps performed)\n",
            "10000/10000 [==============================] - 697s 70ms/step - reward: 0.0163\n",
            "13 episodes - episode_reward: 12.308 [6.000, 21.000] - loss: 0.011 - mae: 0.790 - mean_q: 0.972 - ale.lives: 2.085\n",
            "\n",
            "Interval 16 (150000 steps performed)\n",
            " 9609/10000 [===========================>..] - ETA: 27s - reward: 0.0193"
          ]
        }
      ],
      "source": [
        "#total_steps = 1000000\n",
        "#save_every = 250000  # pasos entre guardados\n",
        "#steps_done = 0\n",
        "\n",
        "#while steps_done < total_steps:\n",
        "#    print(f\"\\n➡️ Entrenando desde el paso {steps_done} hasta {steps_done + save_every}...\")\n",
        "#    dqn.fit(env, nb_steps=save_every, visualize=False, verbose=1)\n",
        "#    --dqn.fit(env, nb_steps=1000000, log_interval=10000, visualize=False)\n",
        "#    steps_done += save_every\n",
        "\n",
        "    # Guardar pesos\n",
        "#    weight_filename = f'dqn_spaceinvaders_weights_{steps_done}.h5f'\n",
        "#    dqn.save_weights(weight_filename, overwrite=True)\n",
        "#    --print(f\"Pesos guardados: {weight_filename}\")\n"
      ]
    },
    {
      "cell_type": "code",
      "execution_count": 58,
      "metadata": {
        "id": "69t13LtCRqL3"
      },
      "outputs": [],
      "source": [
        "# Definimos un Callbak para poder guardar los mejores pesos cada 20 iteraciones\n",
        "class SaveBestWeights(Callback):\n",
        "    def __init__(self, filepath, interval=20, overwrite=True):\n",
        "        super(SaveBestWeights, self).__init__()\n",
        "        self.filepath = filepath\n",
        "        self.interval = interval\n",
        "        self.best_reward = -float('inf')\n",
        "        self.overwrite = overwrite\n",
        "\n",
        "    def on_episode_end(self, episode, logs={}):\n",
        "        if episode % self.interval == 0:\n",
        "            current_reward = logs.get('episode_reward')\n",
        "            if current_reward > self.best_reward:\n",
        "                self.best_reward = current_reward\n",
        "                if self.overwrite or not os.path.exists(self.filepath):\n",
        "                    self.model.save_weights(self.filepath, overwrite=True)\n",
        "                    print(f'\\n ##### Pesos guardados en {self.filepath} recompensa: {self.best_reward}')\n",
        "                else:\n",
        "                    print(f'\\n ##### Warning: No se sobrescribió {self.filepath}, ya existe.')\n",
        "\n",
        "\n",
        "# Definimos un Callbak para poder guardar los ultimos pesos cada 10 iteraciones, sin importar si mejoró el resultado del modelo\n",
        "class SaveLastWeights(Callback):\n",
        "    def __init__(self, filepath, interval=10):\n",
        "        super(SaveLastWeights, self).__init__()\n",
        "        self.filepath = filepath\n",
        "        self.interval = interval\n",
        "\n",
        "    def on_episode_end(self, episode, logs={}):\n",
        "        if episode % self.interval == 0:\n",
        "            self.model.save_weights(self.filepath, overwrite=True)\n",
        "            print(f'\\n ##### Pesos guardados en {self.filepath} al final del episodio {episode}')"
      ]
    },
    {
      "cell_type": "code",
      "execution_count": 59,
      "metadata": {},
      "outputs": [],
      "source": [
        "# path = 'POC4'\n",
        "\n",
        "# # Define subdirectorios\n",
        "# videos_path = os.path.join(path, 'videos')\n",
        "# modelos_path = os.path.join(path, 'modelos')\n",
        "\n",
        "# # Crear directorios si no existen\n",
        "# os.makedirs(videos_path, exist_ok=True)\n",
        "# os.makedirs(modelos_path, exist_ok=True)\n",
        "\n",
        "log_filename = os.path.join(modelos_path, f'dqn_{env_name}_log.json')\n",
        "\n",
        "filepath_bw = os.path.join(modelos_path, 'dqn_best_weights.h5')\n",
        "save_best_weights = SaveBestWeights(filepath=filepath_bw, interval=20, overwrite=True)\n",
        "\n",
        "filepath_lw = os.path.join(modelos_path, 'dqn_last_weights.h5')\n",
        "save_last_weights = SaveLastWeights(filepath=filepath_lw, interval=20)"
      ]
    },
    {
      "cell_type": "code",
      "execution_count": 60,
      "metadata": {
        "colab": {
          "base_uri": "https://localhost:8080/",
          "height": 646
        },
        "id": "sayn-qQxQ7Qg",
        "outputId": "884dc9d8-459b-40ee-d1a7-a6f4c9f510c1"
      },
      "outputs": [
        {
          "name": "stdout",
          "output_type": "stream",
          "text": [
            "########--------------  modelo  ------------------###########\n",
            "Training for 500000 steps ...\n",
            "Interval 1 (0 steps performed)\n"
          ]
        },
        {
          "name": "stderr",
          "output_type": "stream",
          "text": [
            "d:\\anaconda3\\envs\\gym4\\lib\\site-packages\\tensorflow\\python\\keras\\engine\\training.py:2424: UserWarning: `Model.state_updates` will be removed in a future version. This property should not be used in TensorFlow 2.0, as `updates` are applied automatically.\n",
            "  warnings.warn('`Model.state_updates` will be removed in a future version. '\n"
          ]
        },
        {
          "name": "stdout",
          "output_type": "stream",
          "text": [
            "  417/50000 [..............................] - ETA: 6:59 - reward: 0.0144\n",
            " ##### Pesos guardados en Experimento_2\\modelos\\dqn_best_weights.h5 recompensa: 6.0\n",
            "\n",
            " ##### Pesos guardados en Experimento_2\\modelos\\dqn_last_weights.h5 al final del episodio 0\n",
            "14976/50000 [=======>......................] - ETA: 4:15 - reward: 0.0134\n",
            " ##### Pesos guardados en Experimento_2\\modelos\\dqn_last_weights.h5 al final del episodio 20\n",
            "27980/50000 [===============>..............] - ETA: 2:37 - reward: 0.0139\n",
            " ##### Pesos guardados en Experimento_2\\modelos\\dqn_last_weights.h5 al final del episodio 40\n",
            "42282/50000 [========================>.....] - ETA: 54s - reward: 0.0137\n",
            " ##### Pesos guardados en Experimento_2\\modelos\\dqn_best_weights.h5 recompensa: 7.0\n",
            "\n",
            " ##### Pesos guardados en Experimento_2\\modelos\\dqn_last_weights.h5 al final del episodio 60\n",
            "50000/50000 [==============================] - 362s 7ms/step - reward: 0.0136\n",
            "72 episodes - episode_reward: 9.389 [3.000, 23.000] - ale.lives: 2.127\n",
            "\n",
            "Interval 2 (50000 steps performed)\n",
            " 5873/50000 [==>...........................] - ETA: 10:01 - reward: 0.0136\n",
            " ##### Pesos guardados en Experimento_2\\modelos\\dqn_best_weights.h5 recompensa: 16.0\n",
            "\n",
            " ##### Pesos guardados en Experimento_2\\modelos\\dqn_last_weights.h5 al final del episodio 80\n",
            "19691/50000 [==========>...................] - ETA: 6:17 - reward: 0.0137\n",
            " ##### Pesos guardados en Experimento_2\\modelos\\dqn_best_weights.h5 recompensa: 20.0\n",
            "\n",
            " ##### Pesos guardados en Experimento_2\\modelos\\dqn_last_weights.h5 al final del episodio 100\n",
            "33001/50000 [==================>...........] - ETA: 3:27 - reward: 0.0130\n",
            " ##### Pesos guardados en Experimento_2\\modelos\\dqn_last_weights.h5 al final del episodio 120\n",
            "47040/50000 [===========================>..] - ETA: 36s - reward: 0.0129\n",
            " ##### Pesos guardados en Experimento_2\\modelos\\dqn_last_weights.h5 al final del episodio 140\n",
            "50000/50000 [==============================] - 609s 12ms/step - reward: 0.0128\n",
            "73 episodes - episode_reward: 8.863 [2.000, 26.000] - loss: 0.014 - mae: 0.145 - mean_q: 0.215 - mean_eps: 0.865 - ale.lives: 2.065\n",
            "\n",
            "Interval 3 (100000 steps performed)\n",
            "11753/50000 [======>.......................] - ETA: 7:42 - reward: 0.0137\n",
            " ##### Pesos guardados en Experimento_2\\modelos\\dqn_last_weights.h5 al final del episodio 160\n",
            "25953/50000 [==============>...............] - ETA: 4:49 - reward: 0.0131\n",
            " ##### Pesos guardados en Experimento_2\\modelos\\dqn_last_weights.h5 al final del episodio 180\n",
            "41489/50000 [=======================>......] - ETA: 1:41 - reward: 0.0131\n",
            " ##### Pesos guardados en Experimento_2\\modelos\\dqn_last_weights.h5 al final del episodio 200\n",
            "50000/50000 [==============================] - 600s 12ms/step - reward: 0.0130\n",
            "67 episodes - episode_reward: 9.627 [3.000, 24.000] - loss: 0.007 - mae: 0.275 - mean_q: 0.347 - mean_eps: 0.775 - ale.lives: 2.069\n",
            "\n",
            "Interval 4 (150000 steps performed)\n",
            " 6330/50000 [==>...........................] - ETA: 8:44 - reward: 0.0118\n",
            " ##### Pesos guardados en Experimento_2\\modelos\\dqn_last_weights.h5 al final del episodio 220\n",
            "21380/50000 [===========>..................] - ETA: 5:46 - reward: 0.0145\n",
            " ##### Pesos guardados en Experimento_2\\modelos\\dqn_last_weights.h5 al final del episodio 240\n",
            "38563/50000 [======================>.......] - ETA: 2:19 - reward: 0.0136\n",
            " ##### Pesos guardados en Experimento_2\\modelos\\dqn_last_weights.h5 al final del episodio 260\n",
            "50000/50000 [==============================] - 610s 12ms/step - reward: 0.0134\n",
            "66 episodes - episode_reward: 10.091 [3.000, 35.000] - loss: 0.007 - mae: 0.370 - mean_q: 0.457 - mean_eps: 0.685 - ale.lives: 2.070\n",
            "\n",
            "Interval 5 (200000 steps performed)\n",
            " 1538/50000 [..............................] - ETA: 9:46 - reward: 0.0163\n",
            " ##### Pesos guardados en Experimento_2\\modelos\\dqn_last_weights.h5 al final del episodio 280\n",
            "16433/50000 [========>.....................] - ETA: 6:52 - reward: 0.0154\n",
            " ##### Pesos guardados en Experimento_2\\modelos\\dqn_last_weights.h5 al final del episodio 300\n",
            "31001/50000 [=================>............] - ETA: 3:48 - reward: 0.0147\n",
            " ##### Pesos guardados en Experimento_2\\modelos\\dqn_last_weights.h5 al final del episodio 320\n",
            "46169/50000 [==========================>...] - ETA: 45s - reward: 0.0149\n",
            " ##### Pesos guardados en Experimento_2\\modelos\\dqn_last_weights.h5 al final del episodio 340\n",
            "50000/50000 [==============================] - 598s 12ms/step - reward: 0.0150\n",
            "69 episodes - episode_reward: 10.986 [1.000, 26.000] - loss: 0.007 - mae: 0.451 - mean_q: 0.552 - mean_eps: 0.595 - ale.lives: 2.098\n",
            "\n",
            "Interval 6 (250000 steps performed)\n",
            " 9081/50000 [====>.........................] - ETA: 8:26 - reward: 0.0139\n",
            " ##### Pesos guardados en Experimento_2\\modelos\\dqn_last_weights.h5 al final del episodio 360\n",
            "25913/50000 [==============>...............] - ETA: 4:58 - reward: 0.0140\n",
            " ##### Pesos guardados en Experimento_2\\modelos\\dqn_last_weights.h5 al final del episodio 380\n",
            "40641/50000 [=======================>......] - ETA: 1:56 - reward: 0.0138\n",
            " ##### Pesos guardados en Experimento_2\\modelos\\dqn_last_weights.h5 al final del episodio 400\n",
            "50000/50000 [==============================] - 625s 13ms/step - reward: 0.0140\n",
            "68 episodes - episode_reward: 10.235 [1.000, 25.000] - loss: 0.008 - mae: 0.577 - mean_q: 0.702 - mean_eps: 0.505 - ale.lives: 2.049\n",
            "\n",
            "Interval 7 (300000 steps performed)\n",
            " 4098/50000 [=>............................] - ETA: 9:08 - reward: 0.0137\n",
            " ##### Pesos guardados en Experimento_2\\modelos\\dqn_last_weights.h5 al final del episodio 420\n",
            "17947/50000 [=========>....................] - ETA: 6:25 - reward: 0.0135\n",
            " ##### Pesos guardados en Experimento_2\\modelos\\dqn_last_weights.h5 al final del episodio 440\n",
            "33976/50000 [===================>..........] - ETA: 3:17 - reward: 0.0152\n",
            " ##### Pesos guardados en Experimento_2\\modelos\\dqn_best_weights.h5 recompensa: 21.0\n",
            "\n",
            " ##### Pesos guardados en Experimento_2\\modelos\\dqn_last_weights.h5 al final del episodio 460\n",
            "49906/50000 [============================>.] - ETA: 1s - reward: 0.0154\n",
            " ##### Pesos guardados en Experimento_2\\modelos\\dqn_last_weights.h5 al final del episodio 480\n",
            "50000/50000 [==============================] - 622s 12ms/step - reward: 0.0153\n",
            "66 episodes - episode_reward: 11.667 [4.000, 22.000] - loss: 0.008 - mae: 0.673 - mean_q: 0.817 - mean_eps: 0.415 - ale.lives: 2.024\n",
            "\n",
            "Interval 8 (350000 steps performed)\n",
            "15161/50000 [========>.....................] - ETA: 7:24 - reward: 0.0153\n",
            " ##### Pesos guardados en Experimento_2\\modelos\\dqn_last_weights.h5 al final del episodio 500\n",
            "29867/50000 [================>.............] - ETA: 4:15 - reward: 0.0145\n",
            " ##### Pesos guardados en Experimento_2\\modelos\\dqn_last_weights.h5 al final del episodio 520\n",
            "44377/50000 [=========================>....] - ETA: 1:12 - reward: 0.0144\n",
            " ##### Pesos guardados en Experimento_2\\modelos\\dqn_last_weights.h5 al final del episodio 540\n",
            "50000/50000 [==============================] - 715s 14ms/step - reward: 0.0143\n",
            "66 episodes - episode_reward: 10.758 [4.000, 24.000] - loss: 0.009 - mae: 0.771 - mean_q: 0.934 - mean_eps: 0.325 - ale.lives: 2.069\n",
            "\n",
            "Interval 9 (400000 steps performed)\n",
            "10008/50000 [=====>........................] - ETA: 19:03 - reward: 0.0143\n",
            " ##### Pesos guardados en Experimento_2\\modelos\\dqn_last_weights.h5 al final del episodio 560\n",
            "24352/50000 [=============>................] - ETA: 11:51 - reward: 0.0145\n",
            " ##### Pesos guardados en Experimento_2\\modelos\\dqn_last_weights.h5 al final del episodio 580\n",
            "41313/50000 [=======================>......] - ETA: 3:36 - reward: 0.0134\n",
            " ##### Pesos guardados en Experimento_2\\modelos\\dqn_last_weights.h5 al final del episodio 600\n",
            "50000/50000 [==============================] - 1184s 24ms/step - reward: 0.0138\n",
            "64 episodes - episode_reward: 10.828 [4.000, 27.000] - loss: 0.009 - mae: 0.849 - mean_q: 1.027 - mean_eps: 0.235 - ale.lives: 1.977\n",
            "\n",
            "Interval 10 (450000 steps performed)\n",
            " 8161/50000 [===>..........................] - ETA: 11:09 - reward: 0.0145\n",
            " ##### Pesos guardados en Experimento_2\\modelos\\dqn_last_weights.h5 al final del episodio 620\n",
            "25993/50000 [==============>...............] - ETA: 6:06 - reward: 0.0140\n",
            " ##### Pesos guardados en Experimento_2\\modelos\\dqn_last_weights.h5 al final del episodio 640\n",
            "42112/50000 [========================>.....] - ETA: 2:08 - reward: 0.0143\n",
            " ##### Pesos guardados en Experimento_2\\modelos\\dqn_last_weights.h5 al final del episodio 660\n",
            "50000/50000 [==============================] - 827s 17ms/step - reward: 0.0140\n",
            "done, took 6756.894 seconds\n",
            "Entrenamiento completado en 6757.08 segundos (112.62 minutos)\n"
          ]
        }
      ],
      "source": [
        "print(\"########--------------  modelo  ------------------###########\")\n",
        "\n",
        "start_time = time.time()\n",
        "\n",
        "train_scores = dqn_like_dqn.fit(env, nb_steps=nb_steps, visualize=False, verbose=1, log_interval=50000,\n",
        "                       callbacks=[save_best_weights, save_last_weights, FileLogger(log_filename, interval=100)])\n",
        "\n",
        "end_time = time.time()\n",
        "training_duration = end_time - start_time\n",
        "\n",
        "print(f\"Entrenamiento completado en {training_duration:.2f} segundos ({training_duration/60:.2f} minutos)\")\n",
        "\n",
        "# weights_filename = os.path.join(modelos_path, 'dqn_last_weights.h5')\n",
        "# dqn_like_dqn.load_weights(weights_filename)\n",
        "# test_scores = dqn_like_dqn.test(env, nb_episodes=10, visualize=False)\n",
        "\n",
        "# episode_rewards = test_scores.history['episode_reward']\n",
        "# print(int(np.min(episode_rewards)), \"~\", int(np.max(episode_rewards)), \"Mean\", np.mean(episode_rewards))"
      ]
    },
    {
      "cell_type": "code",
      "execution_count": 61,
      "metadata": {},
      "outputs": [
        {
          "name": "stdout",
          "output_type": "stream",
          "text": [
            "Número de episodios durante el entrenamiento: 672\n"
          ]
        }
      ],
      "source": [
        "num_episodios = len(train_scores.history['episode_reward'])\n",
        "print(f\"Número de episodios durante el entrenamiento: {num_episodios}\")\n"
      ]
    },
    {
      "cell_type": "markdown",
      "metadata": {},
      "source": [
        "Testeo resultados"
      ]
    },
    {
      "cell_type": "code",
      "execution_count": 62,
      "metadata": {},
      "outputs": [
        {
          "name": "stdout",
          "output_type": "stream",
          "text": [
            "Testing for 10 episodes ...\n",
            "Episode 1: reward: 8.000, steps: 549\n",
            "Episode 2: reward: 23.000, steps: 977\n",
            "Episode 3: reward: 15.000, steps: 803\n",
            "Episode 4: reward: 12.000, steps: 648\n",
            "Episode 5: reward: 7.000, steps: 439\n",
            "Episode 6: reward: 16.000, steps: 900\n",
            "Episode 7: reward: 13.000, steps: 1088\n",
            "Episode 8: reward: 7.000, steps: 564\n",
            "Episode 9: reward: 7.000, steps: 574\n",
            "Episode 10: reward: 10.000, steps: 666\n",
            "Recompensas: 7 ~ 23 | Media: 11.80\n"
          ]
        }
      ],
      "source": [
        "env = wrappers.Monitor(env, videos_path, force=True)\n",
        "\n",
        "weights_filename = os.path.join(modelos_path, 'dqn_last_weights.h5')\n",
        "dqn_like_dqn.load_weights(weights_filename)\n",
        "\n",
        "test_scores = dqn_like_dqn.test(env, nb_episodes=10, visualize=False)\n",
        "\n",
        "episode_rewards = test_scores.history['episode_reward']\n",
        "min_reward = int(np.min(episode_rewards))\n",
        "max_reward = int(np.max(episode_rewards))\n",
        "mean_reward = np.mean(episode_rewards)\n",
        "    \n",
        "print(f\"Recompensas: {min_reward} ~ {max_reward} | Media: {mean_reward:.2f}\")\n",
        "\n",
        "env.close()"
      ]
    },
    {
      "cell_type": "code",
      "execution_count": 63,
      "metadata": {},
      "outputs": [
        {
          "name": "stdout",
          "output_type": "stream",
          "text": [
            "\n",
            "--- Evaluación #1 ---\n",
            "Testing for 10 episodes ...\n",
            "Episode 1: reward: 7.000, steps: 495\n",
            "Episode 2: reward: 9.000, steps: 595\n",
            "Episode 3: reward: 8.000, steps: 696\n",
            "Episode 4: reward: 8.000, steps: 516\n",
            "Episode 5: reward: 12.000, steps: 686\n",
            "Episode 6: reward: 7.000, steps: 494\n",
            "Episode 7: reward: 9.000, steps: 693\n",
            "Episode 8: reward: 7.000, steps: 506\n",
            "Episode 9: reward: 9.000, steps: 575\n",
            "Episode 10: reward: 7.000, steps: 439\n",
            "Recompensas: 7 ~ 12 | Media: 8.30\n",
            "\n",
            "--- Evaluación #2 ---\n",
            "Testing for 10 episodes ...\n",
            "Episode 1: reward: 12.000, steps: 809\n",
            "Episode 2: reward: 9.000, steps: 758\n",
            "Episode 3: reward: 9.000, steps: 537\n",
            "Episode 4: reward: 7.000, steps: 674\n",
            "Episode 5: reward: 6.000, steps: 448\n",
            "Episode 6: reward: 9.000, steps: 474\n",
            "Episode 7: reward: 6.000, steps: 511\n",
            "Episode 8: reward: 6.000, steps: 445\n",
            "Episode 9: reward: 6.000, steps: 492\n",
            "Episode 10: reward: 6.000, steps: 558\n",
            "Recompensas: 6 ~ 12 | Media: 7.60\n",
            "\n",
            "--- Evaluación #3 ---\n",
            "Testing for 10 episodes ...\n",
            "Episode 1: reward: 9.000, steps: 472\n",
            "Episode 2: reward: 10.000, steps: 565\n",
            "Episode 3: reward: 11.000, steps: 633\n",
            "Episode 4: reward: 8.000, steps: 506\n",
            "Episode 5: reward: 16.000, steps: 682\n",
            "Episode 6: reward: 9.000, steps: 518\n",
            "Episode 7: reward: 14.000, steps: 858\n",
            "Episode 8: reward: 6.000, steps: 452\n",
            "Episode 9: reward: 20.000, steps: 1020\n",
            "Episode 10: reward: 7.000, steps: 608\n",
            "Recompensas: 6 ~ 20 | Media: 11.00\n",
            "\n",
            "--- Evaluación #4 ---\n",
            "Testing for 10 episodes ...\n",
            "Episode 1: reward: 7.000, steps: 474\n",
            "Episode 2: reward: 8.000, steps: 592\n",
            "Episode 3: reward: 6.000, steps: 442\n",
            "Episode 4: reward: 8.000, steps: 580\n",
            "Episode 5: reward: 10.000, steps: 647\n",
            "Episode 6: reward: 7.000, steps: 679\n",
            "Episode 7: reward: 7.000, steps: 565\n",
            "Episode 8: reward: 12.000, steps: 717\n",
            "Episode 9: reward: 10.000, steps: 559\n",
            "Episode 10: reward: 15.000, steps: 1049\n",
            "Recompensas: 6 ~ 15 | Media: 9.00\n",
            "\n",
            "--- Evaluación #5 ---\n",
            "Testing for 10 episodes ...\n",
            "Episode 1: reward: 6.000, steps: 439\n",
            "Episode 2: reward: 6.000, steps: 633\n",
            "Episode 3: reward: 9.000, steps: 573\n",
            "Episode 4: reward: 14.000, steps: 851\n",
            "Episode 5: reward: 8.000, steps: 508\n",
            "Episode 6: reward: 14.000, steps: 662\n",
            "Episode 7: reward: 14.000, steps: 895\n",
            "Episode 8: reward: 8.000, steps: 532\n",
            "Episode 9: reward: 8.000, steps: 624\n",
            "Episode 10: reward: 7.000, steps: 532\n",
            "Recompensas: 6 ~ 14 | Media: 9.40\n",
            "\n",
            "--- Evaluación #6 ---\n",
            "Testing for 10 episodes ...\n",
            "Episode 1: reward: 6.000, steps: 480\n",
            "Episode 2: reward: 8.000, steps: 650\n",
            "Episode 3: reward: 7.000, steps: 491\n",
            "Episode 4: reward: 16.000, steps: 825\n",
            "Episode 5: reward: 6.000, steps: 447\n",
            "Episode 6: reward: 11.000, steps: 678\n",
            "Episode 7: reward: 6.000, steps: 506\n",
            "Episode 8: reward: 5.000, steps: 375\n",
            "Episode 9: reward: 19.000, steps: 1034\n",
            "Episode 10: reward: 16.000, steps: 979\n",
            "Recompensas: 5 ~ 19 | Media: 10.00\n",
            "\n",
            "--- Evaluación #7 ---\n",
            "Testing for 10 episodes ...\n",
            "Episode 1: reward: 8.000, steps: 555\n",
            "Episode 2: reward: 9.000, steps: 684\n",
            "Episode 3: reward: 11.000, steps: 761\n",
            "Episode 4: reward: 9.000, steps: 624\n",
            "Episode 5: reward: 6.000, steps: 437\n",
            "Episode 6: reward: 6.000, steps: 587\n",
            "Episode 7: reward: 8.000, steps: 577\n",
            "Episode 8: reward: 8.000, steps: 461\n",
            "Episode 9: reward: 7.000, steps: 381\n",
            "Episode 10: reward: 9.000, steps: 679\n",
            "Recompensas: 6 ~ 11 | Media: 8.10\n",
            "\n",
            "--- Evaluación #8 ---\n",
            "Testing for 10 episodes ...\n",
            "Episode 1: reward: 7.000, steps: 568\n",
            "Episode 2: reward: 10.000, steps: 553\n",
            "Episode 3: reward: 7.000, steps: 581\n",
            "Episode 4: reward: 14.000, steps: 745\n",
            "Episode 5: reward: 11.000, steps: 583\n",
            "Episode 6: reward: 8.000, steps: 656\n",
            "Episode 7: reward: 8.000, steps: 561\n",
            "Episode 8: reward: 11.000, steps: 846\n",
            "Episode 9: reward: 16.000, steps: 979\n",
            "Episode 10: reward: 12.000, steps: 864\n",
            "Recompensas: 7 ~ 16 | Media: 10.40\n",
            "\n",
            "--- Evaluación #9 ---\n",
            "Testing for 10 episodes ...\n",
            "Episode 1: reward: 6.000, steps: 452\n",
            "Episode 2: reward: 5.000, steps: 363\n",
            "Episode 3: reward: 7.000, steps: 561\n",
            "Episode 4: reward: 9.000, steps: 686\n",
            "Episode 5: reward: 19.000, steps: 933\n",
            "Episode 6: reward: 16.000, steps: 1060\n",
            "Episode 7: reward: 14.000, steps: 651\n",
            "Episode 8: reward: 20.000, steps: 1161\n",
            "Episode 9: reward: 8.000, steps: 551\n",
            "Episode 10: reward: 5.000, steps: 452\n",
            "Recompensas: 5 ~ 20 | Media: 10.90\n",
            "\n",
            "--- Evaluación #10 ---\n",
            "Testing for 10 episodes ...\n",
            "Episode 1: reward: 17.000, steps: 930\n",
            "Episode 2: reward: 6.000, steps: 440\n",
            "Episode 3: reward: 7.000, steps: 628\n",
            "Episode 4: reward: 7.000, steps: 588\n",
            "Episode 5: reward: 23.000, steps: 1383\n",
            "Episode 6: reward: 12.000, steps: 724\n",
            "Episode 7: reward: 7.000, steps: 697\n",
            "Episode 8: reward: 8.000, steps: 568\n",
            "Episode 9: reward: 14.000, steps: 839\n",
            "Episode 10: reward: 7.000, steps: 572\n",
            "Recompensas: 6 ~ 23 | Media: 10.80\n",
            "\n",
            "====== Mejor Evaluación ======\n",
            "Evaluación #3: 6 ~ 20 | Media: 11.00\n"
          ]
        }
      ],
      "source": [
        "# weights_filename = os.path.join(modelos_path, 'dqn_best_weights.h5')\n",
        "# dqn_like_dqn.load_weights(weights_filename)\n",
        "\n",
        "best_mean_reward = -float('inf')\n",
        "best_result = None\n",
        "\n",
        "for i in range(10):\n",
        "    print(f\"\\n--- Evaluación #{i+1} ---\")\n",
        "    test_scores = dqn_like_dqn.test(env, nb_episodes=10, visualize=False)\n",
        "    \n",
        "    episode_rewards = test_scores.history['episode_reward']\n",
        "    min_reward = int(np.min(episode_rewards))\n",
        "    max_reward = int(np.max(episode_rewards))\n",
        "    mean_reward = np.mean(episode_rewards)\n",
        "    \n",
        "    print(f\"Recompensas: {min_reward} ~ {max_reward} | Media: {mean_reward:.2f}\")\n",
        "    \n",
        "    if mean_reward > best_mean_reward:\n",
        "        best_mean_reward = mean_reward\n",
        "        best_result = {\n",
        "            \"index\": i + 1,\n",
        "            \"min\": min_reward,\n",
        "            \"max\": max_reward,\n",
        "            \"mean\": mean_reward\n",
        "        }\n",
        "\n",
        "# Mostrar el mejor resultado al final\n",
        "print(\"\\n====== Mejor Evaluación ======\")\n",
        "print(f\"Evaluación #{best_result['index']}: {best_result['min']} ~ {best_result['max']} | Media: {best_result['mean']:.2f}\")\n"
      ]
    },
    {
      "cell_type": "markdown",
      "metadata": {
        "id": "-NAlu8b1Gb2b"
      },
      "source": [
        "## **3. Justificación de los parámetros seleccionados y de los resultados obtenidos**"
      ]
    },
    {
      "cell_type": "markdown",
      "metadata": {
        "id": "ANFQiicXK3sO"
      },
      "source": [
        "---"
      ]
    }
  ],
  "metadata": {
    "colab": {
      "provenance": []
    },
    "kernelspec": {
      "display_name": "Python (gym4 fresh)",
      "language": "python",
      "name": "gym4-fresh"
    },
    "language_info": {
      "codemirror_mode": {
        "name": "ipython",
        "version": 3
      },
      "file_extension": ".py",
      "mimetype": "text/x-python",
      "name": "python",
      "nbconvert_exporter": "python",
      "pygments_lexer": "ipython3",
      "version": "3.8.19"
    }
  },
  "nbformat": 4,
  "nbformat_minor": 0
}
